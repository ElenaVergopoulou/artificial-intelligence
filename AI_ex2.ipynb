{
  "nbformat": 4,
  "nbformat_minor": 0,
  "metadata": {
    "kernelspec": {
      "display_name": "Python 3",
      "language": "python",
      "name": "python3"
    },
    "language_info": {
      "codemirror_mode": {
        "name": "ipython",
        "version": 3
      },
      "file_extension": ".py",
      "mimetype": "text/x-python",
      "name": "python",
      "nbconvert_exporter": "python",
      "pygments_lexer": "ipython3",
      "version": "3.7.1"
    },
    "pycharm": {
      "stem_cell": {
        "cell_type": "raw",
        "metadata": {
          "collapsed": false
        },
        "source": []
      }
    },
    "colab": {
      "name": "AI_ex2.ipynb",
      "provenance": [],
      "collapsed_sections": [],
      "toc_visible": true
    }
  },
  "cells": [
    {
      "cell_type": "markdown",
      "metadata": {
        "colab_type": "text",
        "id": "816WHA5P3nJT"
      },
      "source": [
        "# Τεχνητή Νοημοσύνη: Εργαστηριακή Άσκηση 2\n",
        "---\n",
        "\n",
        "Ο στόχος της εργασίας είναι η κατασκευή ενός συστήματος προτάσεων (Recommendation System) για ταινίες. Οι προτάσεις αυτές θα πηγάζουν τόσο από τα χαρακτηριστικά της ταινίας όσο και από ορισμένες αξιολογήσεις του κάθε χρήστη.\n",
        "\n",
        "Στα δεδομένα της άσκησης περιλαμβάνονται ένα αρχείο με το όνομα movies_metadata.csv το όποιο περιέχει τα χαρακτηριστικά κάθε ταινίας όπως θέμα, σκηνοθέτης, ηθοποιοί, λέξεις κλειδιά κ.α. από το imdb, τα αρχεία user1.csv και user2.csv τα όποια περιέχουν αξιολογήσεις για 2 διαφορετικούς χρήστες καθώς και το αρχείο relative_movies.csv, που περιέχει 10 όμοιες ταινίες για ορισμένους τυχαία επιλεγμένους τίτλους.\n"
      ]
    },
    {
      "cell_type": "markdown",
      "metadata": {
        "colab_type": "text",
        "id": "aa-wJhCX9Nwk"
      },
      "source": [
        "# Εκφώνηση\n",
        "Στην παρούσα εργασία σας ζητείται να μελετήσετε και υλοποιήσετε τα παρακάτω:<br>\n",
        "\n",
        "### Μέρος 1\n",
        "Στο μέρος 1 και 2 θα ασχοληθείτε και θα εργαστείτε μόνο με το αρχείο movies_metadata.csv.\n",
        "#### Ερώτημα 1α\n",
        "\n",
        "Αρχικά θα πρέπει αφού μελετήσετε την δομή και τα χαρακτηριστικά του αρχείου αυτού να κατασκευάσετε μια βάση γνώσης για την Prolog η όποια ουσιαστικά θα αποτελεί τον κόσμο με τον όποιο θα εργαστείτε στην συνέχεια. Τα κατηγορήματα που θα δημιουργηθούν θα σας βοηθήσουν και στην κατασκευή του recommender και θα είναι της μορφής:\n",
        "\n",
        "```\n",
        "director(Movie, Director).\n",
        "genre(Movie, Genre).\n",
        "```\n",
        "#### Ερώτημα 1β\n",
        "\n",
        "Αφού δημιουργήσετε τον κόσμο του προβλήματος στην συνέχεια καλείστε να δημιουργήσετε, σε Prolog, απλούς κανόνες οι οποίοι θα βρίσκουν όλες τις ταινίες με:\n",
        "1.\tΑρκετά κοινό θέμα (κάποιες λέξεις σχετικά με το genre κοινές)\n",
        "2.\tΣχετικά κοινό θέμα (κάποιες λιγότερες λέξεις σχετικά με το genre κοινές π.χ. 3)\n",
        "3.\tΛιγότερο κοινό θέμα (λίγες λέξεις σχετικές με το genre κοινές π.χ. 1)\n",
        "4.\tΚοινός σκηνοθέτης\n",
        "5.\tΑκριβώς ίδια πλοκή (κάποιες λέξεις κλειδιά της πλοκής να είναι κοινές)\n",
        "6.\tΣχετικά ίδια πλοκή (κάποιες λιγότερες λέξεις κλειδιά κοινές)\n",
        "7.\tΊδιους τους βασικούς ηθοποιούς (και τους 3)\n",
        "8.\tΑρκετά ίδιους βασικούς ηθοποιούς (ορισμένους βασικούς ηθοποιούς κοινούς π.χ. 2)\n",
        "9.\tΣχετικά ίδιους ηθοποιούς (π.χ. 1 από τους 3)\n",
        "10.\tΊδια γλώσσα\n",
        "11.\tΕίναι έγχρωμες ή ασπρόμαυρες\n",
        "\n",
        "Αξίζει να σημειωθεί ότι στα παραπάνω μπορείτε να προσθέσετε περισσότερα ερωτήματα ή να αλλάξετε την κλιμακωσιμότητα των queries (πέρα από το ίδιο, αρκετά ίδιο, σχετικά ίδιο) που θα κατασκευάσετε(π.χ. μια κλίμακα από 1 στα 5 όπου αυτό είναι δυνατόν), μιας και αυτά στην συνέχεια θα χρησιμοποιηθούν για την λειτουργία του recommender. Έτσι μπορείτε να προσθέσετε queries με τα όποια μπορεί να παράγονται καλύτερες συστάσεις  (το αρχείο movie_metadata.csv περιέχει πολλές πληροφορίες ακόμα για κάθε ταινία όπως έτος κυκλοφορίας, βαθμολογία στο imdb, facebοok_likes κ.α.).\n",
        "\n",
        "Περισσότερες πληροφορίες για το dataset μπορείτε να διαβάσετε σε αυτό το Link: https://www.kaggle.com/adnanr94/imdb-movies-metadata.\n",
        "\n",
        "### Μέρος 2: Recommendation System\n",
        "Στο σημείο αυτό καλείστε με βάση αυτά που κάνατε στο μέρος 1 να κατασκευάσετε queries τα όποια θα σας επιστρέφουν παρόμοιες (σε χαρακτηριστικά) ταινίες. Τα ερωτήματα αυτά θα είναι κλιμακούμενα, δηλαδή θα υπάρχουν ερωτήματα που επιστρέφουν αρκετά κοινές ταινίες, και άλλα που επιστρέφουν λιγότερο κοινές (σε μια κλίμακα π.χ. από 1 σε 5). Για παράδειγμα:\n",
        "\n",
        "```\n",
        "simple_recommender_5(\"Pirates Of The Caribbean\", M).\n",
        "M = \"Pirates Of The Caribbean: On Stranger Tides\"\n",
        "M = \"The Chronicles Of Narnia\"\n",
        "M = \"Prince Of Persia: The Sands Of Time\"\n",
        "...\n",
        "\n",
        "simple_recommender_5(\"Avatar\").\n",
        "M = 'Terminator 2: Judgment Day'\n",
        "M = 'Aliens'\n",
        "M = 'The Terminator'\n",
        "\n",
        "simple_recommender_5(\"Star Wars: Episode III - Revenge of the Sith\").\n",
        "M = Star Wars: Episode IV - A New Hope'\n",
        "M = 'Star Wars: Episode I - The Phantom Menace'\n",
        "M = 'Star Wars: Episode II - Attack of the Clones'\n",
        "\n",
        "```\n",
        "Για παράδειγμα το παραπάνω ερώτημα θα επιστρέφει αρκετά κοινές σε περιεχόμενο ταινίες με την ταινια \"Pirates Of The Caribbean\". Αντίστοιχα θα υπάρχουν και ερωτήματα που θα βρίσκουν λιγότερα όμοιες ταινίες. Ο δείκτης ομοιότητας των ταινιών είναι αυθαίρετος και μπορείτε να τον ορίσετε εσείς όπως θέλετε, αρκεί απλά να υπάρχει κάποια λογική σύνδεση με τα δεδομένα που περιέχονται στο αρχείο movies_metadata.csv. \n",
        "\n",
        "Συνεπώς η συνάρτηση που θα κάνει τις προτάσεις (recommendation) με είσοδο μια ταινία πρέπει να επιστρέφει-εκτυπώνει μια λίστα με τις προτεινόμενες ταινίες σε φθίνουσα σειρά ομοιότητας. \n",
        "\n",
        "Για να μπορείτε να αξιολογήσετε τα αποτελέσματα των συστάσεων σας σας δίνεται ένα αρχείο με ορισμένες ταινίας και τα 10 πρώτα αποτελέσματά τους σε φθίνουσα σειρά ομοιότητας. Για την σύγκρισή των αποτελεσμάτων σας με τα  αποτελέσματα του αρχείου relative_movies.csv  μπορείτε να χρησιμοποιήσετε της συνάρτηση ομοιότητας συνόλων Jaccard (https://www.statisticshowto.datasciencecentral.com/jaccard-index/).\n",
        "\n",
        "$$jaccard(A,B)=\\frac{|A\\cap B|}{|A\\cup B|}$$\n",
        "\n",
        "Η υλοποίηση της συνάρτησης αυτής σε Python σας δίνεται με το όνομα jaccard_similarity (set1, set2). \n",
        "\n",
        "Αξίζει να σημειωθεί ότι η παραπάνω σύγκριση δεν είναι απόλυτη για τον λόγο ότι οι συναρτήσεις ομοιότητας μπορεί να είναι διαφορετικές (διαφορετικά ορίζει ο καθένας της ομοιότητα μεταξύ ταινιών) καθώς επίσης αν μια ταινία δεν έχει πολύ σχετικές προτάσεις τότε οι πιο γενικές συναρτήσεις ομοιότητας θα έχουν πολλά αποτελέσματα τα όποια η Prolog θα επιστρέψει με την σειρά που τα βρίσκει στην βάση, όποτε τότε δεν έχει ιδιαίτερο νόημα η σύγκριση σε αυτήν την περίπτωση.\n",
        "Η ομοιότητα των ταινιών είναι βοηθητική και σκοπό έχει να σας βοηθήσει να κατανοήσετε την κατεύθυνση της ασκήσης και όχι για να καταφέρετε την πλήρη ταύτιση των συστάσεων.\n",
        "\n",
        "### 3ο Μέρος: Recommendation System με βάση τις προτιμήσεις-αξιολογήσεις του χρήστη\n",
        "\n",
        "\n",
        "Σε αυτό το σημείο θα εργαστείτε με τα αρχεία user1.csv και user2.csv, τα όποια περιέχουν αξιολογήσεις (από 1 μέχρι 5) για ταινίες από 2 διαφορετικούς χρήστες. Το προηγούμενο σύστημα συστάσεων προτείνει στον χρήστη ταινίες αποκλειστικά με βάση την ομοιότητά τους. Έτσι σε αυτό το σημείο θα γίνει μια αναβάθμιση του συστήματος έτσι ώστε να παράγονται καλύτερες  συστάσεις οι όποιες θα λαμβάνουν υπόψιν και τις προτιμήσεις του χρήστη, οι όποιες θα εξάγονται από τις αξιολογήσεις που έχει κάνει μέχρι στιγμής. \n",
        "\n",
        "Έτσι πλέον για κάθε ταινία θα υπάρχει ένα score το όποιο αρχικά θε είναι ίσο με 0 και θα διαμορφώνεται από τις αξιολογήσεις κάθε user. Έτσι για έναν χρήστη με βάση τις αξιολογήσεις που έχει κάνει θα πρέπει για κάθε ταινία που έχει βαθμολογήσει θα βρίσκονται οι κοινές ταινίες ανά κλίμακα και στο μέχρι τώρα σκορ κάθε παρόμοιας ταινίας θα προστίθεται ένα βάρος το όποιο θα μπορούσε να είναι το ποσοστό ομοιότητας της ταινίας (δηλαδή ένα βάρος για κάθε κλίμακα) επί τον βαθμό που έχει βάλει ο χρήστης για την αρχική ταινία (ή ένα βάρος ανά βαθμό ώστε οι καλές κριτικές να γίνονται καλύτερες ενώ οι κακές χειρότερες). Δηλαδή, αν $rated\\_movies$ είναι το σύνολο ταινιών που έχει αξιολογήσει ο χρήστης, τότε τα recommendations που θα λαμβάνει ο χρήστης θα είναι οι ταινίες που είναι τουλάχιστον similar_1 με τουλάχιστον μία ταινία που έχει βαθμολογήσει ο χρήστης, σε φθίνουσα σειρά recommendation_score, όπου:\n",
        "\n",
        "$$recommendation\\_score(m_1)=\\sum_{m_2\\in rated\\_movies} similarity\\_weight(m_1,m_2)\\cdot voting\\_weight(m_2)$$\n",
        "\n",
        "\n",
        "Έτσι για παράδειγμα αν ένας χρήστης έχει αξιολογήσει αρκετές  ταινίες οι όποιες είναι sci-fiction με 5/5 τότε όταν ζητήσει τις προτεινόμενες είναι λογικό να λάβει πρώτα κάποιες που είναι αυτού του είδους μιας και αυτές μπορεί του αρέσουν περισσότερο.\n",
        "\n",
        "Επίσης για να εξετάσετε την αποδοτικότητα του συστήματος αυτού μπορείτε να κατασκευάσετε τους δικούς σας χρήστες. Για να το κάνετε αυτό πρέπει να γράψετε ορισμένους κανόνες της μορφής: liked(X), notliked(X) οι οποίοι θα σας επιστρέφουν ταινίες που πιθανώς θα σας αρέσουν, π.χ. σας αρέσουν ταινίες επιστημονικής φαντασίας που τις έχει σκηνοθετήσει ένας συγκεκριμένος σκηνοθέτης και αυτές που δεν είναι του γούστου σας. Για την κατασκευή του αρχείου και των αξιολογήσεων σας δίνεται μια συνάρτηση η όποια δέχεται σας ορίσματα όλες τις ταινίες από κάθε κατηγορία και τυχαία επιλέγετε ένας ορισμένος αριθμός ταινιών από αυτές στις όποιες δίνεται ένας βαθμός (για αυτές που αρέσουν στον χρήστη από 3 μέχρι 5 με διαφορετικές πιθανότητες ενώ σε αυτές που δεν του αρέσουν από 1 μέχρι 3). Μπορείτε να πειραματιστείτε με αυτήν την συνάρτηση για να ελέγξετε τα αποτελέσματά σας.\n"
      ]
    },
    {
      "cell_type": "markdown",
      "metadata": {
        "colab_type": "text",
        "id": "mgT4rsTd4tcf"
      },
      "source": [
        "---\n",
        "## Κατασκευή Περιβάλλοντος Εργασίας\n",
        "---\n",
        "### Διάβασμα Αρχείων στο Colab (Μόνο για το Colab)\n",
        "Αν η υλοποίηση γίνει στο google colab τότε μπορεί να χρησιμοποιηθεί το google drive ως file system. Για να γίνει Mount το google drive τρέχουμε τον παρακάτω κώδικα και κλικάρουμε στο link που θα μας εμφανιστεί. \n",
        "\n",
        "```\n",
        "from google.colab import drive\n",
        "drive.mount('/gdrive')\n",
        "import os\n",
        "os.listdir('/gdrive/My Drive')\n",
        "```\n",
        "Επέιτα στην σελίδα που άνοιξε επιλέγουμε το mail μας και στο επόμενο παράθυρο που θα μας ανοίξει πατάμε Να επιτρέπεται. Στην συνέχεια αντιγράφουμε τον κωδικό που θα μας βγάλει και τον κάνουμε paste στο Input που έχει ανοίξει στο colab. Έτσι πλέον αν έχουμε ανεβάσει ένα αρχείο στο google drive μπορούμε να το βρούμε στην θέση:\n",
        "\n",
        "```\n",
        "movies_filename = '/gdrive/My Drive/' + movies_metadata.csv\n",
        "```\n",
        "Μπορούμε πλέον κανονικά να δουλέψουμε φτιάχνοντας φακέλους ή αρχεία και γενικότερα κάνοντας οτιδήποτε θα κάναμε αν ήμασταν τοπικά. \n",
        "\n",
        "### Prolog μέσω Python\n",
        "\n",
        "Το πακέτο που θα χρησιμοποιηθεί για την επικοινωνία Python και Prolog είναι το pyswip (https://pypi.org/project/pyswip/). Για να δουλέψει το Pyswip  χρειάζεται να υπάρχει το Swi-Prolog το όποιο αν δουλεύουμε τοπικά πρέπει να το εγκαταστήσουμε, ακολουθώντας αντίστοιχές οδηγίες στην σελίδα του εργαλείου. Για να γίνει του Swi-Prolog η εγκατάσταση στο Google Colab πρέπει να τρέξουμε τον παρακάτω κώδικα:\n",
        "\n",
        "```\n",
        "!sudo apt-get install software-properties-common\n",
        "!sudo apt-add-repository ppa:swi-prolog/stable\n",
        "!sudo apt-get update\n",
        "!sudo apt-get install swi-prolog\n",
        "```\n",
        "Σε κάποιο σημείο της εκτέλεσης εμφανίζεται ένα μήνυμα ότι πρέπει να πατήσουμε enter σε ένα input για να συνεχίσει η διαδικασία. Έπειτα από αυτό η εκτέλεση θα συνεχίσει χωρίς κάποιο πρόβλημα.\n",
        "\n",
        "Τέλος πρέπει να εγκαταστήσουμε το pyswip (**όπου και να δουλεύουμε**) όπως παρακάτω:\n",
        "\n",
        "```\n",
        "!pip isntall pyswip\n",
        "```\n"
      ]
    },
    {
      "cell_type": "markdown",
      "metadata": {
        "colab_type": "text",
        "id": "21xzXVjQ5tFB"
      },
      "source": [
        "---\n",
        "#Κώδικας για κατασκευή περιβάλλοντος εργασίας\n",
        "##Μόνο για Google Colab\n",
        "\n",
        "Κώδικας για να γίνει Mount to Google Drive"
      ]
    },
    {
      "cell_type": "code",
      "metadata": {
        "colab_type": "code",
        "id": "DfT5Z_wtrhsV",
        "outputId": "7d26f6e2-47a0-483f-d842-71cb1f867728",
        "colab": {
          "base_uri": "https://localhost:8080/",
          "height": 527
        }
      },
      "source": [
        "from google.colab import drive\n",
        "drive.mount('/gdrive')\n",
        "import os\n",
        "os.listdir('/gdrive/My Drive')\n",
        "path='/gdrive/My Drive/'"
      ],
      "execution_count": 0,
      "outputs": [
        {
          "output_type": "error",
          "ename": "KeyboardInterrupt",
          "evalue": "ignored",
          "traceback": [
            "\u001b[0;31m---------------------------------------------------------------------------\u001b[0m",
            "\u001b[0;31mKeyboardInterrupt\u001b[0m                         Traceback (most recent call last)",
            "\u001b[0;32m/usr/local/lib/python3.6/dist-packages/ipykernel/kernelbase.py\u001b[0m in \u001b[0;36m_input_request\u001b[0;34m(self, prompt, ident, parent, password)\u001b[0m\n\u001b[1;32m    729\u001b[0m             \u001b[0;32mtry\u001b[0m\u001b[0;34m:\u001b[0m\u001b[0;34m\u001b[0m\u001b[0;34m\u001b[0m\u001b[0m\n\u001b[0;32m--> 730\u001b[0;31m                 \u001b[0mident\u001b[0m\u001b[0;34m,\u001b[0m \u001b[0mreply\u001b[0m \u001b[0;34m=\u001b[0m \u001b[0mself\u001b[0m\u001b[0;34m.\u001b[0m\u001b[0msession\u001b[0m\u001b[0;34m.\u001b[0m\u001b[0mrecv\u001b[0m\u001b[0;34m(\u001b[0m\u001b[0mself\u001b[0m\u001b[0;34m.\u001b[0m\u001b[0mstdin_socket\u001b[0m\u001b[0;34m,\u001b[0m \u001b[0;36m0\u001b[0m\u001b[0;34m)\u001b[0m\u001b[0;34m\u001b[0m\u001b[0;34m\u001b[0m\u001b[0m\n\u001b[0m\u001b[1;32m    731\u001b[0m             \u001b[0;32mexcept\u001b[0m \u001b[0mException\u001b[0m\u001b[0;34m:\u001b[0m\u001b[0;34m\u001b[0m\u001b[0;34m\u001b[0m\u001b[0m\n",
            "\u001b[0;32m/usr/local/lib/python3.6/dist-packages/jupyter_client/session.py\u001b[0m in \u001b[0;36mrecv\u001b[0;34m(self, socket, mode, content, copy)\u001b[0m\n\u001b[1;32m    802\u001b[0m         \u001b[0;32mtry\u001b[0m\u001b[0;34m:\u001b[0m\u001b[0;34m\u001b[0m\u001b[0;34m\u001b[0m\u001b[0m\n\u001b[0;32m--> 803\u001b[0;31m             \u001b[0mmsg_list\u001b[0m \u001b[0;34m=\u001b[0m \u001b[0msocket\u001b[0m\u001b[0;34m.\u001b[0m\u001b[0mrecv_multipart\u001b[0m\u001b[0;34m(\u001b[0m\u001b[0mmode\u001b[0m\u001b[0;34m,\u001b[0m \u001b[0mcopy\u001b[0m\u001b[0;34m=\u001b[0m\u001b[0mcopy\u001b[0m\u001b[0;34m)\u001b[0m\u001b[0;34m\u001b[0m\u001b[0;34m\u001b[0m\u001b[0m\n\u001b[0m\u001b[1;32m    804\u001b[0m         \u001b[0;32mexcept\u001b[0m \u001b[0mzmq\u001b[0m\u001b[0;34m.\u001b[0m\u001b[0mZMQError\u001b[0m \u001b[0;32mas\u001b[0m \u001b[0me\u001b[0m\u001b[0;34m:\u001b[0m\u001b[0;34m\u001b[0m\u001b[0;34m\u001b[0m\u001b[0m\n",
            "\u001b[0;32m/usr/local/lib/python3.6/dist-packages/zmq/sugar/socket.py\u001b[0m in \u001b[0;36mrecv_multipart\u001b[0;34m(self, flags, copy, track)\u001b[0m\n\u001b[1;32m    465\u001b[0m         \"\"\"\n\u001b[0;32m--> 466\u001b[0;31m         \u001b[0mparts\u001b[0m \u001b[0;34m=\u001b[0m \u001b[0;34m[\u001b[0m\u001b[0mself\u001b[0m\u001b[0;34m.\u001b[0m\u001b[0mrecv\u001b[0m\u001b[0;34m(\u001b[0m\u001b[0mflags\u001b[0m\u001b[0;34m,\u001b[0m \u001b[0mcopy\u001b[0m\u001b[0;34m=\u001b[0m\u001b[0mcopy\u001b[0m\u001b[0;34m,\u001b[0m \u001b[0mtrack\u001b[0m\u001b[0;34m=\u001b[0m\u001b[0mtrack\u001b[0m\u001b[0;34m)\u001b[0m\u001b[0;34m]\u001b[0m\u001b[0;34m\u001b[0m\u001b[0;34m\u001b[0m\u001b[0m\n\u001b[0m\u001b[1;32m    467\u001b[0m         \u001b[0;31m# have first part already, only loop while more to receive\u001b[0m\u001b[0;34m\u001b[0m\u001b[0;34m\u001b[0m\u001b[0;34m\u001b[0m\u001b[0m\n",
            "\u001b[0;32mzmq/backend/cython/socket.pyx\u001b[0m in \u001b[0;36mzmq.backend.cython.socket.Socket.recv\u001b[0;34m()\u001b[0m\n",
            "\u001b[0;32mzmq/backend/cython/socket.pyx\u001b[0m in \u001b[0;36mzmq.backend.cython.socket.Socket.recv\u001b[0;34m()\u001b[0m\n",
            "\u001b[0;32mzmq/backend/cython/socket.pyx\u001b[0m in \u001b[0;36mzmq.backend.cython.socket._recv_copy\u001b[0;34m()\u001b[0m\n",
            "\u001b[0;32m/usr/local/lib/python3.6/dist-packages/zmq/backend/cython/checkrc.pxd\u001b[0m in \u001b[0;36mzmq.backend.cython.checkrc._check_rc\u001b[0;34m()\u001b[0m\n",
            "\u001b[0;31mKeyboardInterrupt\u001b[0m: ",
            "\nDuring handling of the above exception, another exception occurred:\n",
            "\u001b[0;31mKeyboardInterrupt\u001b[0m                         Traceback (most recent call last)",
            "\u001b[0;32m<ipython-input-3-b0649bc6e945>\u001b[0m in \u001b[0;36m<module>\u001b[0;34m()\u001b[0m\n\u001b[1;32m      1\u001b[0m \u001b[0;32mfrom\u001b[0m \u001b[0mgoogle\u001b[0m\u001b[0;34m.\u001b[0m\u001b[0mcolab\u001b[0m \u001b[0;32mimport\u001b[0m \u001b[0mdrive\u001b[0m\u001b[0;34m\u001b[0m\u001b[0;34m\u001b[0m\u001b[0m\n\u001b[0;32m----> 2\u001b[0;31m \u001b[0mdrive\u001b[0m\u001b[0;34m.\u001b[0m\u001b[0mmount\u001b[0m\u001b[0;34m(\u001b[0m\u001b[0;34m'/gdrive'\u001b[0m\u001b[0;34m)\u001b[0m\u001b[0;34m\u001b[0m\u001b[0;34m\u001b[0m\u001b[0m\n\u001b[0m\u001b[1;32m      3\u001b[0m \u001b[0;32mimport\u001b[0m \u001b[0mos\u001b[0m\u001b[0;34m\u001b[0m\u001b[0;34m\u001b[0m\u001b[0m\n\u001b[1;32m      4\u001b[0m \u001b[0mos\u001b[0m\u001b[0;34m.\u001b[0m\u001b[0mlistdir\u001b[0m\u001b[0;34m(\u001b[0m\u001b[0;34m'/gdrive/My Drive'\u001b[0m\u001b[0;34m)\u001b[0m\u001b[0;34m\u001b[0m\u001b[0;34m\u001b[0m\u001b[0m\n\u001b[1;32m      5\u001b[0m \u001b[0mpath\u001b[0m\u001b[0;34m=\u001b[0m\u001b[0;34m'/gdrive/My Drive/'\u001b[0m\u001b[0;34m\u001b[0m\u001b[0;34m\u001b[0m\u001b[0m\n",
            "\u001b[0;32m/usr/local/lib/python3.6/dist-packages/google/colab/drive.py\u001b[0m in \u001b[0;36mmount\u001b[0;34m(mountpoint, force_remount, timeout_ms, use_metadata_server)\u001b[0m\n\u001b[1;32m    232\u001b[0m       \u001b[0mauth_prompt\u001b[0m \u001b[0;34m=\u001b[0m \u001b[0md\u001b[0m\u001b[0;34m.\u001b[0m\u001b[0mmatch\u001b[0m\u001b[0;34m.\u001b[0m\u001b[0mgroup\u001b[0m\u001b[0;34m(\u001b[0m\u001b[0;36m1\u001b[0m\u001b[0;34m)\u001b[0m \u001b[0;34m+\u001b[0m \u001b[0;34m'\\nEnter your authorization code:\\n'\u001b[0m\u001b[0;34m\u001b[0m\u001b[0;34m\u001b[0m\u001b[0m\n\u001b[1;32m    233\u001b[0m       \u001b[0;32mwith\u001b[0m \u001b[0mopen\u001b[0m\u001b[0;34m(\u001b[0m\u001b[0mfifo\u001b[0m\u001b[0;34m,\u001b[0m \u001b[0;34m'w'\u001b[0m\u001b[0;34m)\u001b[0m \u001b[0;32mas\u001b[0m \u001b[0mfifo_file\u001b[0m\u001b[0;34m:\u001b[0m\u001b[0;34m\u001b[0m\u001b[0;34m\u001b[0m\u001b[0m\n\u001b[0;32m--> 234\u001b[0;31m         \u001b[0mfifo_file\u001b[0m\u001b[0;34m.\u001b[0m\u001b[0mwrite\u001b[0m\u001b[0;34m(\u001b[0m\u001b[0m_getpass\u001b[0m\u001b[0;34m.\u001b[0m\u001b[0mgetpass\u001b[0m\u001b[0;34m(\u001b[0m\u001b[0mauth_prompt\u001b[0m\u001b[0;34m)\u001b[0m \u001b[0;34m+\u001b[0m \u001b[0;34m'\\n'\u001b[0m\u001b[0;34m)\u001b[0m\u001b[0;34m\u001b[0m\u001b[0;34m\u001b[0m\u001b[0m\n\u001b[0m\u001b[1;32m    235\u001b[0m       \u001b[0mwrote_to_fifo\u001b[0m \u001b[0;34m=\u001b[0m \u001b[0;32mTrue\u001b[0m\u001b[0;34m\u001b[0m\u001b[0;34m\u001b[0m\u001b[0m\n\u001b[1;32m    236\u001b[0m   \u001b[0;32mif\u001b[0m \u001b[0;32mnot\u001b[0m \u001b[0mwrote_to_fifo\u001b[0m\u001b[0;34m:\u001b[0m\u001b[0;34m\u001b[0m\u001b[0;34m\u001b[0m\u001b[0m\n",
            "\u001b[0;32m/usr/local/lib/python3.6/dist-packages/ipykernel/kernelbase.py\u001b[0m in \u001b[0;36mgetpass\u001b[0;34m(self, prompt, stream)\u001b[0m\n\u001b[1;32m    686\u001b[0m             \u001b[0mself\u001b[0m\u001b[0;34m.\u001b[0m\u001b[0m_parent_ident\u001b[0m\u001b[0;34m,\u001b[0m\u001b[0;34m\u001b[0m\u001b[0;34m\u001b[0m\u001b[0m\n\u001b[1;32m    687\u001b[0m             \u001b[0mself\u001b[0m\u001b[0;34m.\u001b[0m\u001b[0m_parent_header\u001b[0m\u001b[0;34m,\u001b[0m\u001b[0;34m\u001b[0m\u001b[0;34m\u001b[0m\u001b[0m\n\u001b[0;32m--> 688\u001b[0;31m             \u001b[0mpassword\u001b[0m\u001b[0;34m=\u001b[0m\u001b[0;32mTrue\u001b[0m\u001b[0;34m,\u001b[0m\u001b[0;34m\u001b[0m\u001b[0;34m\u001b[0m\u001b[0m\n\u001b[0m\u001b[1;32m    689\u001b[0m         )\n\u001b[1;32m    690\u001b[0m \u001b[0;34m\u001b[0m\u001b[0m\n",
            "\u001b[0;32m/usr/local/lib/python3.6/dist-packages/ipykernel/kernelbase.py\u001b[0m in \u001b[0;36m_input_request\u001b[0;34m(self, prompt, ident, parent, password)\u001b[0m\n\u001b[1;32m    733\u001b[0m             \u001b[0;32mexcept\u001b[0m \u001b[0mKeyboardInterrupt\u001b[0m\u001b[0;34m:\u001b[0m\u001b[0;34m\u001b[0m\u001b[0;34m\u001b[0m\u001b[0m\n\u001b[1;32m    734\u001b[0m                 \u001b[0;31m# re-raise KeyboardInterrupt, to truncate traceback\u001b[0m\u001b[0;34m\u001b[0m\u001b[0;34m\u001b[0m\u001b[0;34m\u001b[0m\u001b[0m\n\u001b[0;32m--> 735\u001b[0;31m                 \u001b[0;32mraise\u001b[0m \u001b[0mKeyboardInterrupt\u001b[0m\u001b[0;34m\u001b[0m\u001b[0;34m\u001b[0m\u001b[0m\n\u001b[0m\u001b[1;32m    736\u001b[0m             \u001b[0;32melse\u001b[0m\u001b[0;34m:\u001b[0m\u001b[0;34m\u001b[0m\u001b[0;34m\u001b[0m\u001b[0m\n\u001b[1;32m    737\u001b[0m                 \u001b[0;32mbreak\u001b[0m\u001b[0;34m\u001b[0m\u001b[0;34m\u001b[0m\u001b[0m\n",
            "\u001b[0;31mKeyboardInterrupt\u001b[0m: "
          ]
        }
      ]
    },
    {
      "cell_type": "markdown",
      "metadata": {
        "colab_type": "text",
        "id": "Rk-8r3HU6Jyo"
      },
      "source": [
        "Κώδικάς για να εγκατασταθεί το Swi-Prolog και το pyswip.<br>\n",
        "\n",
        "***Αυτά χρειάζονται σε κάθε περιβάλλον λειτουργίας, αν δεν έιναι ήδη  εγκατεστημένα.***"
      ]
    },
    {
      "cell_type": "code",
      "metadata": {
        "colab_type": "code",
        "id": "mHVpa_D65-E2",
        "outputId": "3603bf05-4c9a-44c2-9212-75a7255dbbdd",
        "colab": {
          "base_uri": "https://localhost:8080/",
          "height": 1000
        }
      },
      "source": [
        "#install swi-prolog\n",
        "!sudo apt-get install software-properties-common\n",
        "!sudo apt-add-repository ppa:swi-prolog/stable\n",
        "!sudo apt-get update\n",
        "!sudo apt-get install swi-prolog"
      ],
      "execution_count": 0,
      "outputs": [
        {
          "output_type": "stream",
          "text": [
            "Reading package lists... Done\n",
            "Building dependency tree       \n",
            "Reading state information... Done\n",
            "software-properties-common is already the newest version (0.96.24.32.11).\n",
            "The following package was automatically installed and is no longer required:\n",
            "  libnvidia-common-430\n",
            "Use 'sudo apt autoremove' to remove it.\n",
            "0 upgraded, 0 newly installed, 0 to remove and 7 not upgraded.\n",
            " Comprehensive Prolog implementation with extensive libraries and development tools.   Primarily targetted at teaching, RDF processing and web-related tasks, such as creating web services or analysing web content.\n",
            " More info: https://launchpad.net/~swi-prolog/+archive/ubuntu/stable\n",
            "Press [ENTER] to continue or Ctrl-c to cancel adding it.\n",
            "\n",
            "Hit:1 http://ppa.launchpad.net/graphics-drivers/ppa/ubuntu bionic InRelease\n",
            "Hit:2 http://archive.ubuntu.com/ubuntu bionic InRelease\n",
            "Get:3 http://archive.ubuntu.com/ubuntu bionic-updates InRelease [88.7 kB]\n",
            "Get:4 http://ppa.launchpad.net/marutter/c2d4u3.5/ubuntu bionic InRelease [15.4 kB]\n",
            "Get:5 https://cloud.r-project.org/bin/linux/ubuntu bionic-cran35/ InRelease [3,626 B]\n",
            "Get:6 http://ppa.launchpad.net/swi-prolog/stable/ubuntu bionic InRelease [15.4 kB]\n",
            "Get:7 http://archive.ubuntu.com/ubuntu bionic-backports InRelease [74.6 kB]\n",
            "Get:8 http://security.ubuntu.com/ubuntu bionic-security InRelease [88.7 kB]\n",
            "Ign:9 https://developer.download.nvidia.com/compute/cuda/repos/ubuntu1804/x86_64  InRelease\n",
            "Ign:10 https://developer.download.nvidia.com/compute/machine-learning/repos/ubuntu1804/x86_64  InRelease\n",
            "Hit:11 https://developer.download.nvidia.com/compute/cuda/repos/ubuntu1804/x86_64  Release\n",
            "Get:12 https://developer.download.nvidia.com/compute/machine-learning/repos/ubuntu1804/x86_64  Release [564 B]\n",
            "Get:13 https://developer.download.nvidia.com/compute/machine-learning/repos/ubuntu1804/x86_64  Release.gpg [833 B]\n",
            "Get:14 http://ppa.launchpad.net/marutter/c2d4u3.5/ubuntu bionic/main Sources [1,752 kB]\n",
            "Get:15 https://cloud.r-project.org/bin/linux/ubuntu bionic-cran35/ Packages [81.6 kB]\n",
            "Get:16 http://ppa.launchpad.net/marutter/c2d4u3.5/ubuntu bionic/main amd64 Packages [845 kB]\n",
            "Get:17 http://archive.ubuntu.com/ubuntu bionic-updates/multiverse amd64 Packages [10.8 kB]\n",
            "Get:18 http://archive.ubuntu.com/ubuntu bionic-updates/restricted amd64 Packages [35.5 kB]\n",
            "Get:19 http://archive.ubuntu.com/ubuntu bionic-updates/main amd64 Packages [1,074 kB]\n",
            "Get:20 http://archive.ubuntu.com/ubuntu bionic-updates/universe amd64 Packages [1,329 kB]\n",
            "Get:21 http://ppa.launchpad.net/swi-prolog/stable/ubuntu bionic/main amd64 Packages [1,491 B]\n",
            "Get:22 http://archive.ubuntu.com/ubuntu bionic-backports/universe amd64 Packages [4,241 B]\n",
            "Get:24 https://developer.download.nvidia.com/compute/machine-learning/repos/ubuntu1804/x86_64  Packages [30.4 kB]\n",
            "Get:25 http://security.ubuntu.com/ubuntu bionic-security/restricted amd64 Packages [21.8 kB]\n",
            "Get:26 http://security.ubuntu.com/ubuntu bionic-security/main amd64 Packages [777 kB]\n",
            "Get:27 http://security.ubuntu.com/ubuntu bionic-security/universe amd64 Packages [804 kB]\n",
            "Fetched 7,056 kB in 2s (3,516 kB/s)\n",
            "Reading package lists... Done\n",
            "Hit:1 http://ppa.launchpad.net/graphics-drivers/ppa/ubuntu bionic InRelease\n",
            "Hit:2 http://archive.ubuntu.com/ubuntu bionic InRelease\n",
            "Hit:3 http://archive.ubuntu.com/ubuntu bionic-updates InRelease\n",
            "Hit:4 http://ppa.launchpad.net/marutter/c2d4u3.5/ubuntu bionic InRelease\n",
            "Hit:5 http://archive.ubuntu.com/ubuntu bionic-backports InRelease\n",
            "Hit:6 https://cloud.r-project.org/bin/linux/ubuntu bionic-cran35/ InRelease\n",
            "Hit:7 http://ppa.launchpad.net/swi-prolog/stable/ubuntu bionic InRelease\n",
            "Hit:8 http://security.ubuntu.com/ubuntu bionic-security InRelease\n",
            "Ign:9 https://developer.download.nvidia.com/compute/cuda/repos/ubuntu1804/x86_64  InRelease\n",
            "Ign:10 https://developer.download.nvidia.com/compute/machine-learning/repos/ubuntu1804/x86_64  InRelease\n",
            "Hit:11 https://developer.download.nvidia.com/compute/cuda/repos/ubuntu1804/x86_64  Release\n",
            "Hit:12 https://developer.download.nvidia.com/compute/machine-learning/repos/ubuntu1804/x86_64  Release\n",
            "Reading package lists... Done\n",
            "Reading package lists... Done\n",
            "Building dependency tree       \n",
            "Reading state information... Done\n",
            "The following package was automatically installed and is no longer required:\n",
            "  libnvidia-common-430\n",
            "Use 'sudo apt autoremove' to remove it.\n",
            "The following additional packages will be installed:\n",
            "  libbsd-dev libedit-dev libgmp-dev libgmpxx4ldbl libncursesw5-dev\n",
            "  libossp-uuid16 swi-prolog-nox swi-prolog-x\n",
            "Suggested packages:\n",
            "  gmp-doc libgmp10-doc libmpfr-dev ncurses-doc uuid swi-prolog-doc prolog-el\n",
            "The following NEW packages will be installed:\n",
            "  libbsd-dev libedit-dev libgmp-dev libgmpxx4ldbl libncursesw5-dev\n",
            "  libossp-uuid16 swi-prolog swi-prolog-nox swi-prolog-x\n",
            "0 upgraded, 9 newly installed, 0 to remove and 30 not upgraded.\n",
            "Need to get 6,664 kB of archives.\n",
            "After this operation, 34.7 MB of additional disk space will be used.\n",
            "Get:1 http://archive.ubuntu.com/ubuntu bionic/main amd64 libbsd-dev amd64 0.8.7-1 [150 kB]\n",
            "Get:2 http://ppa.launchpad.net/swi-prolog/stable/ubuntu bionic/main amd64 swi-prolog-nox amd64 8.0.3-1-gcbd8b3b92-bionicppa2 [3,723 kB]\n",
            "Get:3 http://archive.ubuntu.com/ubuntu bionic/main amd64 libedit-dev amd64 3.1-20170329-1 [99.1 kB]\n",
            "Get:4 http://archive.ubuntu.com/ubuntu bionic/main amd64 libgmpxx4ldbl amd64 2:6.1.2+dfsg-2 [8,964 B]\n",
            "Get:5 http://archive.ubuntu.com/ubuntu bionic/main amd64 libgmp-dev amd64 2:6.1.2+dfsg-2 [316 kB]\n",
            "Get:6 http://archive.ubuntu.com/ubuntu bionic-updates/main amd64 libncursesw5-dev amd64 6.1-1ubuntu1.18.04 [199 kB]\n",
            "Get:7 http://archive.ubuntu.com/ubuntu bionic/universe amd64 libossp-uuid16 amd64 1.6.2-1.5build4 [29.0 kB]\n",
            "Get:8 http://ppa.launchpad.net/swi-prolog/stable/ubuntu bionic/main amd64 swi-prolog-x amd64 8.0.3-1-gcbd8b3b92-bionicppa2 [2,110 kB]\n",
            "Get:9 http://ppa.launchpad.net/swi-prolog/stable/ubuntu bionic/main amd64 swi-prolog amd64 8.0.3-1-gcbd8b3b92-bionicppa2 [27.3 kB]\n",
            "Fetched 6,664 kB in 0s (22.4 MB/s)\n",
            "debconf: unable to initialize frontend: Dialog\n",
            "debconf: (No usable dialog-like program is installed, so the dialog based frontend cannot be used. at /usr/share/perl5/Debconf/FrontEnd/Dialog.pm line 76, <> line 9.)\n",
            "debconf: falling back to frontend: Readline\n",
            "debconf: unable to initialize frontend: Readline\n",
            "debconf: (This frontend requires a controlling tty.)\n",
            "debconf: falling back to frontend: Teletype\n",
            "dpkg-preconfigure: unable to re-open stdin: \n",
            "Selecting previously unselected package libbsd-dev:amd64.\n",
            "(Reading database ... 135004 files and directories currently installed.)\n",
            "Preparing to unpack .../0-libbsd-dev_0.8.7-1_amd64.deb ...\n",
            "Unpacking libbsd-dev:amd64 (0.8.7-1) ...\n",
            "Selecting previously unselected package libedit-dev:amd64.\n",
            "Preparing to unpack .../1-libedit-dev_3.1-20170329-1_amd64.deb ...\n",
            "Unpacking libedit-dev:amd64 (3.1-20170329-1) ...\n",
            "Selecting previously unselected package libgmpxx4ldbl:amd64.\n",
            "Preparing to unpack .../2-libgmpxx4ldbl_2%3a6.1.2+dfsg-2_amd64.deb ...\n",
            "Unpacking libgmpxx4ldbl:amd64 (2:6.1.2+dfsg-2) ...\n",
            "Selecting previously unselected package libgmp-dev:amd64.\n",
            "Preparing to unpack .../3-libgmp-dev_2%3a6.1.2+dfsg-2_amd64.deb ...\n",
            "Unpacking libgmp-dev:amd64 (2:6.1.2+dfsg-2) ...\n",
            "Selecting previously unselected package libncursesw5-dev:amd64.\n",
            "Preparing to unpack .../4-libncursesw5-dev_6.1-1ubuntu1.18.04_amd64.deb ...\n",
            "Unpacking libncursesw5-dev:amd64 (6.1-1ubuntu1.18.04) ...\n",
            "Selecting previously unselected package libossp-uuid16:amd64.\n",
            "Preparing to unpack .../5-libossp-uuid16_1.6.2-1.5build4_amd64.deb ...\n",
            "Unpacking libossp-uuid16:amd64 (1.6.2-1.5build4) ...\n",
            "Selecting previously unselected package swi-prolog-nox.\n",
            "Preparing to unpack .../6-swi-prolog-nox_8.0.3-1-gcbd8b3b92-bionicppa2_amd64.deb ...\n",
            "Unpacking swi-prolog-nox (8.0.3-1-gcbd8b3b92-bionicppa2) ...\n",
            "Selecting previously unselected package swi-prolog-x.\n",
            "Preparing to unpack .../7-swi-prolog-x_8.0.3-1-gcbd8b3b92-bionicppa2_amd64.deb ...\n",
            "Unpacking swi-prolog-x (8.0.3-1-gcbd8b3b92-bionicppa2) ...\n",
            "Selecting previously unselected package swi-prolog.\n",
            "Preparing to unpack .../8-swi-prolog_8.0.3-1-gcbd8b3b92-bionicppa2_amd64.deb ...\n",
            "Unpacking swi-prolog (8.0.3-1-gcbd8b3b92-bionicppa2) ...\n",
            "Setting up libbsd-dev:amd64 (0.8.7-1) ...\n",
            "Setting up libossp-uuid16:amd64 (1.6.2-1.5build4) ...\n",
            "Setting up libncursesw5-dev:amd64 (6.1-1ubuntu1.18.04) ...\n",
            "Setting up libedit-dev:amd64 (3.1-20170329-1) ...\n",
            "Setting up libgmpxx4ldbl:amd64 (2:6.1.2+dfsg-2) ...\n",
            "Setting up libgmp-dev:amd64 (2:6.1.2+dfsg-2) ...\n",
            "Setting up swi-prolog-nox (8.0.3-1-gcbd8b3b92-bionicppa2) ...\n",
            "update-alternatives: using /usr/bin/swipl to provide /usr/bin/prolog (prolog) in auto mode\n",
            "Setting up swi-prolog-x (8.0.3-1-gcbd8b3b92-bionicppa2) ...\n",
            "Setting up swi-prolog (8.0.3-1-gcbd8b3b92-bionicppa2) ...\n",
            "Processing triggers for libc-bin (2.27-3ubuntu1) ...\n",
            "Processing triggers for man-db (2.8.3-2ubuntu0.1) ...\n"
          ],
          "name": "stdout"
        }
      ]
    },
    {
      "cell_type": "code",
      "metadata": {
        "id": "Mgffk-O9O39G",
        "colab_type": "code",
        "outputId": "d46e027b-4bae-4a59-eaa8-0d71e40db842",
        "colab": {
          "base_uri": "https://localhost:8080/",
          "height": 85
        }
      },
      "source": [
        "#install pyswip\n",
        "!pip install pyswip"
      ],
      "execution_count": 0,
      "outputs": [
        {
          "output_type": "stream",
          "text": [
            "Collecting pyswip\n",
            "  Downloading https://files.pythonhosted.org/packages/e4/f3/2b1462c4379b089426dbedb29d8d903e63baf37857ccf6e87f168b786019/pyswip-0.2.9-py2.py3-none-any.whl\n",
            "Installing collected packages: pyswip\n",
            "Successfully installed pyswip-0.2.9\n"
          ],
          "name": "stdout"
        }
      ]
    },
    {
      "cell_type": "markdown",
      "metadata": {
        "colab_type": "text",
        "id": "YwVgPW316S3l"
      },
      "source": [
        "---"
      ]
    },
    {
      "cell_type": "markdown",
      "metadata": {
        "colab_type": "text",
        "id": "rhbCLdSqKUy2"
      },
      "source": [
        "# **Μέρος 1: Μελέτη των Metadata, Δημιουργία κόσμου και των βασικών queries.**\n"
      ]
    },
    {
      "cell_type": "code",
      "metadata": {
        "colab_type": "code",
        "id": "Z_f0xW6_tHhp",
        "outputId": "cc89ac91-be31-4a2f-a9a7-bc0731c6fd8b",
        "colab": {
          "base_uri": "https://localhost:8080/",
          "height": 360
        }
      },
      "source": [
        "# Η βιβλιοθήκη pandas είναι χρήσιμη για την εργασία με τέτοια δεδομένα\n",
        "import pandas as pd \n",
        "# Διάβασμα του αρχείου 'movie_metadata.csv' \n",
        "data = pd.read_csv(\"movie_metadata.csv\") \n",
        "#Στο csv υπαρχούν κελία με nan τιμές\n",
        "#Στις θέσεις αυτές βάζουμε 'UNK' πράγμα που  κάνουμε με την παρακάτω συνάρτηση\n",
        "data.fillna(\"UNK\", inplace=True)\n",
        "# Preview the first 5 lines of the loaded data \n",
        "data.head()"
      ],
      "execution_count": 0,
      "outputs": [
        {
          "output_type": "execute_result",
          "data": {
            "text/html": [
              "<div>\n",
              "<style scoped>\n",
              "    .dataframe tbody tr th:only-of-type {\n",
              "        vertical-align: middle;\n",
              "    }\n",
              "\n",
              "    .dataframe tbody tr th {\n",
              "        vertical-align: top;\n",
              "    }\n",
              "\n",
              "    .dataframe thead th {\n",
              "        text-align: right;\n",
              "    }\n",
              "</style>\n",
              "<table border=\"1\" class=\"dataframe\">\n",
              "  <thead>\n",
              "    <tr style=\"text-align: right;\">\n",
              "      <th></th>\n",
              "      <th>color</th>\n",
              "      <th>director_name</th>\n",
              "      <th>num_critic_for_reviews</th>\n",
              "      <th>duration</th>\n",
              "      <th>director_facebook_likes</th>\n",
              "      <th>actor_3_facebook_likes</th>\n",
              "      <th>actor_2_name</th>\n",
              "      <th>actor_1_facebook_likes</th>\n",
              "      <th>gross</th>\n",
              "      <th>genres</th>\n",
              "      <th>actor_1_name</th>\n",
              "      <th>movie_title</th>\n",
              "      <th>num_voted_users</th>\n",
              "      <th>cast_total_facebook_likes</th>\n",
              "      <th>actor_3_name</th>\n",
              "      <th>facenumber_in_poster</th>\n",
              "      <th>plot_keywords</th>\n",
              "      <th>movie_imdb_link</th>\n",
              "      <th>num_user_for_reviews</th>\n",
              "      <th>language</th>\n",
              "      <th>country</th>\n",
              "      <th>content_rating</th>\n",
              "      <th>budget</th>\n",
              "      <th>title_year</th>\n",
              "      <th>actor_2_facebook_likes</th>\n",
              "      <th>imdb_score</th>\n",
              "      <th>aspect_ratio</th>\n",
              "      <th>movie_facebook_likes</th>\n",
              "    </tr>\n",
              "  </thead>\n",
              "  <tbody>\n",
              "    <tr>\n",
              "      <th>0</th>\n",
              "      <td>Color</td>\n",
              "      <td>James Cameron</td>\n",
              "      <td>723</td>\n",
              "      <td>178</td>\n",
              "      <td>0</td>\n",
              "      <td>855</td>\n",
              "      <td>Joel David Moore</td>\n",
              "      <td>1000</td>\n",
              "      <td>7.60506e+08</td>\n",
              "      <td>Action|Adventure|Fantasy|Sci-Fi</td>\n",
              "      <td>CCH Pounder</td>\n",
              "      <td>Avatar</td>\n",
              "      <td>886204</td>\n",
              "      <td>4834</td>\n",
              "      <td>Wes Studi</td>\n",
              "      <td>0</td>\n",
              "      <td>avatar|future|marine|native|paraplegic</td>\n",
              "      <td>http://www.imdb.com/title/tt0499549/?ref_=fn_t...</td>\n",
              "      <td>3054</td>\n",
              "      <td>English</td>\n",
              "      <td>USA</td>\n",
              "      <td>PG-13</td>\n",
              "      <td>2.37e+08</td>\n",
              "      <td>2009</td>\n",
              "      <td>936</td>\n",
              "      <td>7.9</td>\n",
              "      <td>1.78</td>\n",
              "      <td>33000</td>\n",
              "    </tr>\n",
              "    <tr>\n",
              "      <th>1</th>\n",
              "      <td>Color</td>\n",
              "      <td>Gore Verbinski</td>\n",
              "      <td>302</td>\n",
              "      <td>169</td>\n",
              "      <td>563</td>\n",
              "      <td>1000</td>\n",
              "      <td>Orlando Bloom</td>\n",
              "      <td>40000</td>\n",
              "      <td>3.09404e+08</td>\n",
              "      <td>Action|Adventure|Fantasy</td>\n",
              "      <td>Johnny Depp</td>\n",
              "      <td>Pirates of the Caribbean: At World's End</td>\n",
              "      <td>471220</td>\n",
              "      <td>48350</td>\n",
              "      <td>Jack Davenport</td>\n",
              "      <td>0</td>\n",
              "      <td>goddess|marriage ceremony|marriage proposal|pi...</td>\n",
              "      <td>http://www.imdb.com/title/tt0449088/?ref_=fn_t...</td>\n",
              "      <td>1238</td>\n",
              "      <td>English</td>\n",
              "      <td>USA</td>\n",
              "      <td>PG-13</td>\n",
              "      <td>3e+08</td>\n",
              "      <td>2007</td>\n",
              "      <td>5000</td>\n",
              "      <td>7.1</td>\n",
              "      <td>2.35</td>\n",
              "      <td>0</td>\n",
              "    </tr>\n",
              "    <tr>\n",
              "      <th>2</th>\n",
              "      <td>Color</td>\n",
              "      <td>Sam Mendes</td>\n",
              "      <td>602</td>\n",
              "      <td>148</td>\n",
              "      <td>0</td>\n",
              "      <td>161</td>\n",
              "      <td>Rory Kinnear</td>\n",
              "      <td>11000</td>\n",
              "      <td>2.00074e+08</td>\n",
              "      <td>Action|Adventure|Thriller</td>\n",
              "      <td>Christoph Waltz</td>\n",
              "      <td>Spectre</td>\n",
              "      <td>275868</td>\n",
              "      <td>11700</td>\n",
              "      <td>Stephanie Sigman</td>\n",
              "      <td>1</td>\n",
              "      <td>bomb|espionage|sequel|spy|terrorist</td>\n",
              "      <td>http://www.imdb.com/title/tt2379713/?ref_=fn_t...</td>\n",
              "      <td>994</td>\n",
              "      <td>English</td>\n",
              "      <td>UK</td>\n",
              "      <td>PG-13</td>\n",
              "      <td>2.45e+08</td>\n",
              "      <td>2015</td>\n",
              "      <td>393</td>\n",
              "      <td>6.8</td>\n",
              "      <td>2.35</td>\n",
              "      <td>85000</td>\n",
              "    </tr>\n",
              "    <tr>\n",
              "      <th>3</th>\n",
              "      <td>Color</td>\n",
              "      <td>Christopher Nolan</td>\n",
              "      <td>813</td>\n",
              "      <td>164</td>\n",
              "      <td>22000</td>\n",
              "      <td>23000</td>\n",
              "      <td>Christian Bale</td>\n",
              "      <td>27000</td>\n",
              "      <td>4.48131e+08</td>\n",
              "      <td>Action|Thriller</td>\n",
              "      <td>Tom Hardy</td>\n",
              "      <td>The Dark Knight Rises</td>\n",
              "      <td>1144337</td>\n",
              "      <td>106759</td>\n",
              "      <td>Joseph Gordon-Levitt</td>\n",
              "      <td>0</td>\n",
              "      <td>deception|imprisonment|lawlessness|police offi...</td>\n",
              "      <td>http://www.imdb.com/title/tt1345836/?ref_=fn_t...</td>\n",
              "      <td>2701</td>\n",
              "      <td>English</td>\n",
              "      <td>USA</td>\n",
              "      <td>PG-13</td>\n",
              "      <td>2.5e+08</td>\n",
              "      <td>2012</td>\n",
              "      <td>23000</td>\n",
              "      <td>8.5</td>\n",
              "      <td>2.35</td>\n",
              "      <td>164000</td>\n",
              "    </tr>\n",
              "    <tr>\n",
              "      <th>4</th>\n",
              "      <td>UNK</td>\n",
              "      <td>Doug Walker</td>\n",
              "      <td>UNK</td>\n",
              "      <td>UNK</td>\n",
              "      <td>131</td>\n",
              "      <td>UNK</td>\n",
              "      <td>Rob Walker</td>\n",
              "      <td>131</td>\n",
              "      <td>UNK</td>\n",
              "      <td>Documentary</td>\n",
              "      <td>Doug Walker</td>\n",
              "      <td>Star Wars: Episode VII - The Force Awakens    ...</td>\n",
              "      <td>8</td>\n",
              "      <td>143</td>\n",
              "      <td>UNK</td>\n",
              "      <td>0</td>\n",
              "      <td>UNK</td>\n",
              "      <td>http://www.imdb.com/title/tt5289954/?ref_=fn_t...</td>\n",
              "      <td>UNK</td>\n",
              "      <td>UNK</td>\n",
              "      <td>UNK</td>\n",
              "      <td>UNK</td>\n",
              "      <td>UNK</td>\n",
              "      <td>UNK</td>\n",
              "      <td>12</td>\n",
              "      <td>7.1</td>\n",
              "      <td>UNK</td>\n",
              "      <td>0</td>\n",
              "    </tr>\n",
              "  </tbody>\n",
              "</table>\n",
              "</div>"
            ],
            "text/plain": [
              "   color      director_name  ... aspect_ratio movie_facebook_likes\n",
              "0  Color      James Cameron  ...         1.78                33000\n",
              "1  Color     Gore Verbinski  ...         2.35                    0\n",
              "2  Color         Sam Mendes  ...         2.35                85000\n",
              "3  Color  Christopher Nolan  ...         2.35               164000\n",
              "4    UNK        Doug Walker  ...          UNK                    0\n",
              "\n",
              "[5 rows x 28 columns]"
            ]
          },
          "metadata": {
            "tags": []
          },
          "execution_count": 1
        }
      ]
    },
    {
      "cell_type": "code",
      "metadata": {
        "colab_type": "code",
        "id": "dG4-a9_FzRRd",
        "colab": {}
      },
      "source": [
        "from pyswip import Prolog"
      ],
      "execution_count": 0,
      "outputs": []
    },
    {
      "cell_type": "code",
      "metadata": {
        "colab_type": "code",
        "id": "ceBtnUMn7Mwm",
        "colab": {}
      },
      "source": [
        "def clean_text(text):\n",
        "    text = text.replace(u'\\xa0', u'')\n",
        "    text = text.replace(u\"'\", u'')\n",
        "    text = text.replace(u'\"', u'')\n",
        "    return text"
      ],
      "execution_count": 0,
      "outputs": []
    },
    {
      "cell_type": "code",
      "metadata": {
        "colab_type": "code",
        "id": "8-fmdlMxxBzx",
        "colab": {}
      },
      "source": [
        "#create World\n",
        "#Ορίζουμε τον κόσμο μας\n",
        "prolog = Prolog()\n",
        "#και σβήνουμε ότι υπήρχε αποθηκευμένο από πρίν\n",
        "prolog.query('make')\n",
        "\n",
        "#Για κάθε row του πίνακα φτιάχνουμε τα κατηγοτήματα που θέλουμε να αποθηκέυσουμε\n",
        "#αρχικά σε μια λίστα με το όνομα literals\n",
        "literals = []\n",
        "movie_score = {}\n",
        "for row in data.itertuples(index=True, name='Pandas'):\n",
        "    movie_title = clean_text(getattr(row, 'movie_title'))\n",
        "    director = clean_text(getattr(row, 'director_name'))\n",
        "    color = clean_text(getattr(row,'color'))\n",
        "    duration = getattr(row,'duration')\n",
        "    criticReviews = getattr(row,'num_critic_for_reviews')\n",
        "    directorLikes = getattr(row, 'director_facebook_likes')\n",
        "    actor3Likes = getattr(row,'actor_3_facebook_likes')\n",
        "    actor2 = clean_text(getattr(row,'actor_2_name'))\n",
        "    actor1Likes = getattr(row,'actor_1_facebook_likes')\n",
        "    gross = getattr(row,'gross')\n",
        "    actor1 = clean_text(getattr(row,'actor_1_name'))\n",
        "    usersVote = getattr(row,'num_voted_users')\n",
        "    castLikes = getattr(row,'cast_total_facebook_likes')\n",
        "    actor3 = clean_text(getattr(row,'actor_3_name'))\n",
        "    poster = getattr(row,'facenumber_in_poster')\n",
        "    imdbLink = clean_text(getattr(row,'movie_imdb_link'))\n",
        "    userReviews = getattr(row,'num_user_for_reviews')\n",
        "    language = clean_text(getattr(row, 'language'))\n",
        "    country = clean_text(getattr(row,'country'))\n",
        "    ageRating = clean_text(getattr(row,'content_rating'))\n",
        "    budget = getattr(row,'budget')\n",
        "    year = getattr(row,'title_year')\n",
        "    actor2Likes = getattr(row,'actor_2_facebook_likes')\n",
        "    score = getattr(row,'imdb_score')\n",
        "    aspect = getattr(row,'aspect_ratio')\n",
        "    likes = getattr(row,'movie_facebook_likes')\n",
        "\n",
        "    movie_score[movie_title] = 0\n",
        "    \n",
        "    if movie_title != \"UNK\":\n",
        "        if director != \"UNK\":\n",
        "            literals.append(\"director('\"+ movie_title +\"','\" + director + \"')\")\n",
        "        for genre in getattr(row, 'genres').split(\"|\"):\n",
        "            literals.append(\"genre('\"+ movie_title +\"','\"+ genre +\"')\")\n",
        "        if(color != \"UNK\"):\n",
        "            literals.append(\"color('\"+ movie_title +\"','\"+ color +\"')\")\n",
        "        if(duration != \"UNK\"):\n",
        "            literals.append(\"duration('\"+ movie_title +\"','+ duration +')\")\n",
        "        if(criticReviews != \"UNK\"):\n",
        "            literals.append(\"criticReviews('\"+ movie_title +\"','+ criticReviews +')\")\n",
        "        if(directorLikes != \"UNK\"):\n",
        "            literals.append(\"diractorLikes('\"+ movie_title +\"','+ diractorLikes +')\")\n",
        "        if(actor3Likes != \"UNK\"):\n",
        "            literals.append(\"actor3Likes('\"+ movie_title +\"','+ actor3Likes +')\")\n",
        "        if(actor2 != \"UNK\"):\n",
        "            literals.append(\"actor2('\"+ movie_title +\"','\"+ actor2 +\"')\")\n",
        "        if(actor1Likes != \"UNK\"):\n",
        "            literals.append(\"actor1Likes('\"+ movie_title +\"','+ actor1Likes +')\")\n",
        "        if(gross != \"UNK\"):\n",
        "            literals.append(\"gross('\"+ movie_title +\"','+ gross +')\")\n",
        "        if(actor1 != \"UNK\"):\n",
        "            literals.append(\"actor1('\"+ movie_title +\"','\"+ actor1 +\"')\")\n",
        "        if(usersVote != \"UNK\"):\n",
        "            literals.append(\"usersVote('\"+ movie_title +\"','+ usersVote +')\")\n",
        "        if(castLikes != \"UNK\"):\n",
        "            literals.append(\"castLikes('\"+ movie_title +\"','+ castLikes +')\")\n",
        "        if(actor3 != \"UNK\"):\n",
        "            literals.append(\"actor3('\"+ movie_title +\"','\"+ actor3 +\"')\")\n",
        "        if(poster != \"UNK\"):\n",
        "            literals.append(\"poster('\"+ movie_title +\"','+ poster +')\")\n",
        "        for plot in clean_text(getattr(row, 'plot_keywords')).split(\"|\"):\n",
        "            literals.append(\"plot('\"+ movie_title +\"','\"+ plot +\"')\")\n",
        "        if(imdbLink != \"UNK\"):\n",
        "            literals.append(\"imdbLink('\"+ movie_title +\"','\"+ imdbLink +\"')\")\n",
        "        if(userReviews != \"UNK\"):\n",
        "            literals.append(\"userReviews('\"+ movie_title +\"','+ userReviews +')\")\n",
        "        if(language != \"UNK\"):\n",
        "            literals.append(\"language('\"+ movie_title +\"','\"+ language +\"')\")\n",
        "        if(country != \"UNK\"):\n",
        "            literals.append(\"country('\"+ movie_title +\"','\"+ country +\"')\")\n",
        "        if(ageRating != \"UNK\"):\n",
        "            literals.append(\"ageRating('\"+ movie_title +\"','\"+ ageRating +\"')\")\n",
        "        if(budget != \"UNK\"):\n",
        "            literals.append(\"budget('\"+ movie_title +\"','+ budget +')\")\n",
        "        if(year != \"UNK\"):\n",
        "            literals.append(\"year('\"+ movie_title +\"','+ year +')\")\n",
        "        if(actor2Likes != \"UNK\"):\n",
        "            literals.append(\"actor2Likes('\"+ movie_title +\"','+ actor2Likes +')\")\n",
        "        if(score != \"UNK\"):\n",
        "            literals.append(\"score('\"+ movie_title +\"','+ score +')\")\n",
        "        if(aspect != \"UNK\"):\n",
        "            literals.append(\"aspect('\"+ movie_title +\"','+ aspect +')\")\n",
        "        if(likes != \"UNK\"):\n",
        "            literals.append(\"likes('\"+ movie_title +\"','+ likes +')\")\n",
        "\n",
        "#Η Prolog θέλει τα κατηγορήματά της με την σειρά \n",
        "literals.sort()\n",
        "for literal in literals:\n",
        "    prolog.assertz(literal)\n",
        "\n",
        "#Επίσης μπορούμε να κάνουμε consult ένα έτοιμό αρχίο στον κόσμο όπως γίνεται παρακάτω\n",
        "# prolog.consult(\"filename.pl\")\n",
        "\n",
        "\n",
        "#prolog queries\n",
        "#prolog.assertz('(find_similar_movies_5(X, Y) :- director(X, D), director(Y, D), genre(X, G), genre(Y, G), X \\= Y )')\n",
        "#prolog.assertz('(find_similar_movies_4(X, Y) :- genre(X, G), genre(Y, G), X \\= Y, not(find_similar_movies_5(X, Y)) )')\n",
        "#prolog.assertz('(find_similar_movies_3(X, Y) :- genre(X, G), genre(Y, G), X \\= Y, not(find_similar_movies_4(X, Y)), not(find_similar_movies_5(X,Y)))')\n",
        "\n",
        "#for genre\n",
        "#have at least 5 genres same\n",
        "prolog.assertz('(find_similar_genre_5(X,Y) :- genre(X,G1),genre(Y,G1),genre(X,G2),genre(Y,G2),genre(X,G3),genre(Y,G3),genre(X,G4),genre(Y,G4),genre(X,G5),genre(Y,G5),G1\\=G2,G1\\=G3,G1\\=G4,G1\\=G5,G2\\=G3,G2\\=G4,G2\\=G5,G3\\=G4,G3\\=G5,G4\\=G5,X \\=Y)')\n",
        "#have 4 genres same\n",
        "prolog.assertz('(find_similar_genre_4(X,Y) :- genre(X,G1),genre(Y,G1),genre(X,G2),genre(Y,G2),genre(X,G3),genre(Y,G3),genre(X,G4),genre(Y,G4),G1\\=G2,G1\\=G3,G1\\=G4,G2\\=G3,G2\\=G4,G3\\=G4,X \\=Y,not(find_similar_genre_5(X,Y)))')\n",
        "#have 3 genres same\n",
        "prolog.assertz('(find_similar_genre_3(X,Y) :- genre(X,G1),genre(Y,G1),genre(X,G2),genre(Y,G2),genre(X,G3),genre(Y,G3),G1\\=G2,G1\\=G3,G2\\=G3,X \\=Y,not(find_similar_genre_3(X,Y)))')\n",
        "#have 2 genre same\n",
        "prolog.assertz('(find_similar_genre_2(X,Y) :- genre(X,G1),genre(Y,G1),genre(X,G2),genre(Y,G2),G1\\=G2,X \\=Y,not(find_similar_genre_2(X,Y)))')\n",
        "#have only one genre same\n",
        "prolog.assertz('(find_similar_genre_1(X,Y) :- genre(X,G1),genre(Y,G1),X \\=Y,not(find_similar_genre_1(X,Y)))')\n",
        "#have at least 3 genres same\n",
        "prolog.assertz('(genre_3(X,Y) :- genre(X,G1),genre(Y,G1),genre(X,G2),genre(Y,G2),genre(X,G3),genre(Y,G3),G1\\=G2,G1\\=G3,G2\\=G3,X\\=Y)')\n",
        "#have at least one genre same\n",
        "prolog.assertz('(genre_1(X,Y) :- genre(X,G1),genre(Y,G1),X\\=Y)')\n",
        "#have at least 2 genres same\n",
        "prolog.assertz('(genre_2(X,Y) :- genre(X,G1),genre(Y,G1),genre(X,G2),genre(Y,G2),G1\\=G2,X\\=Y)')\n",
        "#end for genre queries\n",
        "\n",
        "\n",
        "#for plot\n",
        "#prolog.assertz('(find_similar_plot_5(X,Y) :- plot(X,G1),plot(Y,G1),plot(X,G2),plot(Y,G2),plot(X,G3),plot(Y,G3),plot(X,G4),plot(Y,G4),plot(X,G5),plot(Y,G5),X \\=Y)')\n",
        "#prolog.assertz('(find_similar_plot_4(X,Y) :- plot(X,G1),plot(Y,G1),plot(X,G2),plot(Y,G2),plot(X,G3),plot(Y,G3),plot(X,G4),plot(Y,G4),X \\=Y,not(find_same_plot_5(X,Y)))')\n",
        "#have at least 3 plot keywords same\n",
        "prolog.assertz('(find_similar_plot_3(X,Y) :- plot(X,G1),plot(Y,G1),plot(X,G2),plot(Y,G2),plot(X,G3),plot(Y,G3),G1\\=G2,G1\\=G3,G2\\=G3,X \\=Y)')\n",
        "#have 2 plot keywords same\n",
        "prolog.assertz('(find_similar_plot_2(X,Y) :- plot(X,G1),plot(Y,G1),plot(X,G2),plot(Y,G2),G1\\=G2,X \\=Y,not(find_same_plot_3(X,Y)))')\n",
        "#have 1 plot keyword same\n",
        "prolog.assertz('(find_similar_plot_1(X,Y) :- plot(X,G1),plot(Y,G1),X \\=Y,not(find_same_plot_2(X,Y)))')\n",
        "#have at least 1 plot keyword same\n",
        "prolog.assertz('(plot_1(X,Y) :- plot(X,G1),plot(Y,G1),X\\=Y)')\n",
        "#have at least 2 plot keyword same\n",
        "prolog.assertz('(plot_2(X,Y) :- plot(X,G1),plot(Y,G1),plot(X,G2),plot(Y,G2),G1\\=G2,X\\=Y)')\n",
        "#end for plot queries\n",
        "\n",
        "#same 3 actors\n",
        "prolog.assertz('(same_3_actors(X,Y) :- actor1(X,G1),actor1(Y,G1),actor2(X,G2),actor2(Y,G2),actor3(X,G3),actor3(Y,G3), X \\=Y)')\n",
        "prolog.assertz('(same_3_actors(X,Y) :- actor1(X,G1),actor1(Y,G1),actor2(X,G2),actor3(Y,G2),actor3(X,G3),actor2(Y,G3), X \\=Y)')\n",
        "\n",
        "#same 2 actors\n",
        "prolog.assertz('(same_2_actors(X,Y) :- actor1(X,G1),actor1(Y,G1),actor2(X,G2),actor2(Y,G2),X\\=Y,not(same_3_actors(X,Y)))')\n",
        "prolog.assertz('(same_2_actors(X,Y) :- actor1(X,G1),actor1(Y,G1),actor2(X,G2),actor3(Y,G2),X\\=Y,not(same_3_actors(X,Y)))')\n",
        "prolog.assertz('(same_2_actors(X,Y) :- actor1(X,G1),actor1(Y,G1),actor3(X,G2),actor3(Y,G2),X\\=Y,not(same_3_actors(X,Y)))')\n",
        "prolog.assertz('(same_2_actors(X,Y) :- actor1(X,G1),actor1(Y,G1),actor3(X,G2),actor2(Y,G2),X\\=Y,not(same_3_actors(X,Y)))')\n",
        "prolog.assertz('(same_2_actors(X,Y) :- actor2(X,G1),actor2(Y,G1),actor3(X,G2),actor3(Y,G2),X\\=Y,not(same_3_actors(X,Y)))')\n",
        "prolog.assertz('(same_2_actors(X,Y) :- actor2(X,G1),actor3(Y,G1),actor3(X,G2),actor2(Y,G2),X\\=Y,not(same_3_actors(X,Y)))')\n",
        "\n",
        "#same 1 actor\n",
        "prolog.assertz('(same_1_actor(X,Y) :- actor1(X,G1),actor1(Y,G1),not(same_2_actors(X,Y)))')\n",
        "prolog.assertz('(same_1_actor(X,Y) :- actor2(X,G1),actor2(Y,G1),not(same_2_actors(X,Y)))')\n",
        "prolog.assertz('(same_1_actor(X,Y) :- actor2(X,G1),actor3(Y,G1),not(same_2_actors(X,Y)))')\n",
        "prolog.assertz('(same_1_actor(X,Y) :- actor3(X,G1),actor3(Y,G1),not(same_2_actors(X,Y)))')\n",
        "prolog.assertz('(same_1_actor(X,Y) :- actor3(X,G1),actor2(Y,G1),not(same_2_actors(X,Y)))')\n",
        "\n",
        "#with color\n",
        "prolog.assertz('(color_movie(X) :- color(X,\"Color\"))')\n",
        "\n",
        "#black and white\n",
        "prolog.assertz('(black_and_white_movie(X) :- color(X,\"Black and White\"))')\n",
        "\n",
        "#same color\n",
        "prolog.assertz('(same_color(X,Y) :- color(X,G),color(Y,G))')\n",
        "\n",
        "#same director\n",
        "prolog.assertz('(same_director(X, Y) :- director(X,D), director(Y,D),  X \\= Y)')\n",
        "\n",
        "#same language\n",
        "prolog.assertz('(same_language(X, Y) :- language(X,D), language(Y,D), X \\= Y)')\n"
      ],
      "execution_count": 0,
      "outputs": []
    },
    {
      "cell_type": "markdown",
      "metadata": {
        "colab_type": "text",
        "id": "gpMVPz-3K07i"
      },
      "source": [
        "# **2ο Μέρος: Recommendation System με βάση μόνο τα χαρακτηριστικά των ταινιών.**\n",
        "\n",
        "Στο σημείο αυτό με βάση τους κανόνες που κατασκευάστηκαν στο Μέρος 1 θα κατασκευαστούν κατηγορήματα για την ομοιότητα ταινιών. Παρακάτω δίνεται ένα μικρό παράδειγμα ενός κανόνα και πώς αυτός θα μπορούσε να γραφτεί μέσω του Pyswip. Επίσης όπως αναφέρεται και σε σχόλιο παραπάνω θα μπορεί να γραφτεί και μια βάση δεδομένων με τους κανόνες και να γίνει απευθείας consult.\n",
        "\n",
        "Στο παρακάτω παράδειγμα το 5 και το 4 εκφράζουν την ομοιότητα των ταινιών π.χ. οι ταινίες που παράγονται μέσω του find_similar_5 είναι πιο όμοιες από αυτές που παράγονται μέσω του find_similar_4. \n"
      ]
    },
    {
      "cell_type": "code",
      "metadata": {
        "colab_type": "code",
        "id": "h1nmSLlmA75q",
        "colab": {}
      },
      "source": [
        "''' we create 5 queries: 5 -> the most similar movies \n",
        "                         1 -> the least similar movies '''\n",
        "\n",
        "#num.5: at least 3 genres, same director\n",
        "prolog.assertz('(find_similar_movies_5(X, Y) :- genre_3(X,Y),same_director(X,Y),X\\=Y )')\n",
        "#num.4: at least 1 genre, same director\n",
        "prolog.assertz('(find_similar_movies_4(X, Y) :- genre_1(X,Y),same_director(X,Y),X\\=Y,not(find_similar_movies_5(X,Y)) )')\n",
        "#num.3: at least 2 genres \n",
        "prolog.assertz('(find_similar_movies_3(X, Y) :- genre_2(X,Y), X \\= Y,not(find_similar_movies_5(X,Y)),not(find_similar_movies_4(X,Y)) )')\n",
        "#num.2: at least 1 genre\n",
        "prolog.assertz('(find_similar_movies_2(X, Y) :- genre_1(X,Y), X \\= Y, not(find_similar_movies_3(X,Y)),not(find_similar_movies_4(X,Y)),not(find_similar_movies_5(X,Y)) )')\n",
        "#num.1 same director\n",
        "prolog.assertz('(find_similar_movies_1(X, Y) :- same_director(X,Y),X\\=Y,not(find_similar_movies_2(X,Y)), not(find_similar_movies_3(X,Y)),not(find_similar_movies_4(X,Y)),not(find_similar_movies_5(X,Y)) )')\n",
        "\n",
        "\n",
        "\n",
        "# prolog.consult('db.pl')"
      ],
      "execution_count": 0,
      "outputs": []
    },
    {
      "cell_type": "code",
      "metadata": {
        "colab_type": "code",
        "id": "DeAvc55byC0l",
        "colab": {}
      },
      "source": [
        "def simple_recommender_2(movie):\n",
        "\n",
        "    q = prolog.query(\"find_similar_movies_5('\" + movie +\"',M)\")\n",
        "    ans5 = []\n",
        "    for soln in q:\n",
        "        ans5.append(soln[\"M\"])\n",
        "    ans = set(ans5)\n",
        "    \n",
        "    q = prolog.query(\"find_similar_movies_4('\" + movie +\"',M)\")\n",
        "    ans4 = []\n",
        "    for soln in q:\n",
        "        if soln[\"M\"] not in ans:\n",
        "            ans4.append(soln[\"M\"])\n",
        "            ans.add(soln[\"M\"])\n",
        "           \n",
        "    \n",
        "    q = prolog.query(\"find_similar_movies_3('\" + movie +\"',M)\")\n",
        "    ans3 = []\n",
        "    for soln in q:\n",
        "        if soln[\"M\"] not in ans:\n",
        "            ans3.append(soln[\"M\"])\n",
        "            ans.add(soln[\"M\"])\n",
        "           \n",
        "            \n",
        "\n",
        "            #κάνουμε κάποιο Processing στα παραπάνω αποτελέσματα και επιστρέφουμε τις \"όμοιες\" ταινίες με φθίνουσα σειρά\n",
        "    return list(set(ans5))[:5], list(set(ans4))[:5], list(set(ans3))[:5]"
      ],
      "execution_count": 0,
      "outputs": []
    },
    {
      "cell_type": "code",
      "metadata": {
        "id": "CfxYC4CrWmNo",
        "colab_type": "code",
        "colab": {}
      },
      "source": [
        "def simple_recommender(movie):\n",
        "\n",
        "    q = prolog.query(\"find_similar_movies_5('\" + movie +\"',M)\")\n",
        "    ans5 = []\n",
        "    for soln in q:\n",
        "        ans5.append(soln[\"M\"])\n",
        "    ans = set(ans5)\n",
        "    \n",
        "    q = prolog.query(\"find_similar_movies_4('\" + movie +\"',M)\")\n",
        "    ans4 = []\n",
        "    for soln in q:\n",
        "        if soln[\"M\"] not in ans:\n",
        "            ans4.append(soln[\"M\"])\n",
        "            ans.add(soln[\"M\"])\n",
        "           \n",
        "    \n",
        "    q = prolog.query(\"find_similar_movies_3('\" + movie +\"',M)\")\n",
        "    ans3 = []\n",
        "    for soln in q:\n",
        "        if soln[\"M\"] not in ans:\n",
        "            ans3.append(soln[\"M\"])\n",
        "            ans.add(soln[\"M\"])\n",
        "           \n",
        "            \n",
        "    q = prolog.query(\"find_similar_movies_2('\" + movie +\"',M)\")\n",
        "    ans2 = []\n",
        "    for soln in q:\n",
        "        if soln[\"M\"] not in ans:\n",
        "            ans2.append(soln[\"M\"])\n",
        "            ans.add(soln[\"M\"])\n",
        "           \n",
        "            \n",
        "    q = prolog.query(\"find_similar_movies_1('\" + movie +\"',M)\")\n",
        "    ans1 = []\n",
        "    for soln in q:\n",
        "        if soln[\"M\"] not in ans:\n",
        "            ans1.append(soln[\"M\"])\n",
        "            ans.add(soln[\"M\"])\n",
        "          \n",
        "\n",
        "            #κάνουμε κάποιο Processing στα παραπάνω αποτελέσματα και επιστρέφουμε τις \"όμοιες\" ταινίες με φθίνουσα σειρά\n",
        "    return list(set(ans5))[:10], list(set(ans4))[:10], list(set(ans3))[:10], list(set(ans2))[:10], list(set(ans1))[:10]"
      ],
      "execution_count": 0,
      "outputs": []
    },
    {
      "cell_type": "markdown",
      "metadata": {
        "colab_type": "text",
        "id": "wCryo9VGAeWi"
      },
      "source": [
        "**Στο σημείο αυτό θα ζητήσουμε από το σύστημα να μας επιστρέψει ορισμένα αποτελέσματα για ταινίες για να εξετάσουμε την απόδοσή του.**\n"
      ]
    },
    {
      "cell_type": "code",
      "metadata": {
        "colab_type": "code",
        "id": "IxNuJ6kX1m0m",
        "outputId": "293f9afe-c437-47dc-b88d-0045ff173352",
        "colab": {
          "base_uri": "https://localhost:8080/",
          "height": 442
        }
      },
      "source": [
        "simple_recommender(\"Star Wars: Episode III - Revenge of the Sith\")"
      ],
      "execution_count": 0,
      "outputs": [
        {
          "output_type": "execute_result",
          "data": {
            "text/plain": [
              "(['Star Wars: Episode I - The Phantom Menace',\n",
              "  'Star Wars: Episode IV - A New Hope',\n",
              "  'Star Wars: Episode II - Attack of the Clones'],\n",
              " [],\n",
              " ['The Amazing Spider-Man 2',\n",
              "  'Mortal Kombat',\n",
              "  'Agent Cody Banks 2: Destination London',\n",
              "  'Highlander: The Final Dimension',\n",
              "  'Brave',\n",
              "  'Silver Medallist',\n",
              "  'Rollerball',\n",
              "  'Superman II',\n",
              "  'Warcraft',\n",
              "  'The Nutcracker in 3D'],\n",
              " ['Shinjuku Incident',\n",
              "  'Entrapment',\n",
              "  'Rockaway',\n",
              "  'Victor Frankenstein',\n",
              "  'Hard to Be a God',\n",
              "  'The Mexican',\n",
              "  'Sex Drive',\n",
              "  'Doctor Dolittle',\n",
              "  'The Other Side of Heaven',\n",
              "  'Splice'],\n",
              " ['American Graffiti'])"
            ]
          },
          "metadata": {
            "tags": []
          },
          "execution_count": 8
        }
      ]
    },
    {
      "cell_type": "code",
      "metadata": {
        "id": "zUHhSby_O4C8",
        "colab_type": "code",
        "outputId": "438a0e30-86f4-47bc-cfc1-40969d70383a",
        "colab": {
          "base_uri": "https://localhost:8080/",
          "height": 408
        }
      },
      "source": [
        "simple_recommender(\"Avatar\")"
      ],
      "execution_count": 0,
      "outputs": [
        {
          "output_type": "execute_result",
          "data": {
            "text/plain": [
              "(['Aliens'],\n",
              " ['True Lies', 'The Abyss', 'The Terminator', 'Terminator 2: Judgment Day'],\n",
              " ['The Amazing Spider-Man 2',\n",
              "  'Mortal Kombat',\n",
              "  'Agent Cody Banks 2: Destination London',\n",
              "  'Highlander: The Final Dimension',\n",
              "  'Brave',\n",
              "  'Silver Medallist',\n",
              "  'Rollerball',\n",
              "  'Superman II',\n",
              "  'Warcraft',\n",
              "  'The Nutcracker in 3D'],\n",
              " ['Shinjuku Incident',\n",
              "  'Entrapment',\n",
              "  'Rockaway',\n",
              "  'Victor Frankenstein',\n",
              "  'Hard to Be a God',\n",
              "  'The Mexican',\n",
              "  'Sex Drive',\n",
              "  'Doctor Dolittle',\n",
              "  'The Other Side of Heaven',\n",
              "  'Splice'],\n",
              " ['Titanic'])"
            ]
          },
          "metadata": {
            "tags": []
          },
          "execution_count": 9
        }
      ]
    },
    {
      "cell_type": "code",
      "metadata": {
        "colab_type": "code",
        "id": "_isjJITtG7P3",
        "outputId": "5bec8b7e-7464-4d8f-f003-812efa194727",
        "colab": {
          "base_uri": "https://localhost:8080/",
          "height": 425
        }
      },
      "source": [
        "simple_recommender('Pirates of the Caribbean: Dead Mans Chest')"
      ],
      "execution_count": 0,
      "outputs": [
        {
          "output_type": "execute_result",
          "data": {
            "text/plain": [
              "(['Pirates of the Caribbean: At Worlds End',\n",
              "  'Pirates of the Caribbean: The Curse of the Black Pearl'],\n",
              " ['Rango', 'The Mexican', 'The Lone Ranger'],\n",
              " ['The Amazing Spider-Man 2',\n",
              "  'Mortal Kombat',\n",
              "  'Agent Cody Banks 2: Destination London',\n",
              "  'Highlander: The Final Dimension',\n",
              "  'Brave',\n",
              "  'Silver Medallist',\n",
              "  'Superman II',\n",
              "  'Warcraft',\n",
              "  'The Nutcracker in 3D',\n",
              "  'Serenity'],\n",
              " ['Shinjuku Incident',\n",
              "  'Entrapment',\n",
              "  'Rockaway',\n",
              "  'Rollerball',\n",
              "  'Sex Drive',\n",
              "  'Enders Game',\n",
              "  'Doctor Dolittle',\n",
              "  'The Other Side of Heaven',\n",
              "  'Driven',\n",
              "  '17 Again'],\n",
              " ['The Weather Man'])"
            ]
          },
          "metadata": {
            "tags": []
          },
          "execution_count": 10
        }
      ]
    },
    {
      "cell_type": "code",
      "metadata": {
        "id": "hFjYHixtTtgI",
        "colab_type": "code",
        "outputId": "162d2cf7-aed6-46e7-8c6d-b836e6878b73",
        "colab": {
          "base_uri": "https://localhost:8080/",
          "height": 408
        }
      },
      "source": [
        "simple_recommender('The Great Gatsby')"
      ],
      "execution_count": 0,
      "outputs": [
        {
          "output_type": "execute_result",
          "data": {
            "text/plain": [
              "([],\n",
              " ['Australia', 'Romeo + Juliet', 'Moulin Rouge!'],\n",
              " ['Network',\n",
              "  'The Sisterhood of the Traveling Pants 2',\n",
              "  'Being Julia',\n",
              "  'Gentlemans Agreement',\n",
              "  'The Flowers of War',\n",
              "  'Forgetting Sarah Marshall',\n",
              "  'Safe Haven',\n",
              "  '17 Again',\n",
              "  'Oscar and Lucinda',\n",
              "  'Namastey London'],\n",
              " ['Shinjuku Incident',\n",
              "  'Victor Frankenstein',\n",
              "  'Entrapment',\n",
              "  'Argo',\n",
              "  'The Mexican',\n",
              "  'Blonde Ambition',\n",
              "  'Mondays in the Sun',\n",
              "  'Good Night, and Good Luck.',\n",
              "  'Bad Words',\n",
              "  'The Walk'],\n",
              " [])"
            ]
          },
          "metadata": {
            "tags": []
          },
          "execution_count": 13
        }
      ]
    },
    {
      "cell_type": "code",
      "metadata": {
        "id": "nIGYmInNO4EJ",
        "colab_type": "code",
        "colab": {}
      },
      "source": [
        "def jaccard_similarity(list1, list2):\n",
        "    set1 = set(list1)\n",
        "    set2 = set(list2)\n",
        "    intersection = len(set1.intersection(set2))\n",
        "    union = len(set1) + len(set2) - intersection\n",
        "    return intersection / union"
      ],
      "execution_count": 0,
      "outputs": []
    },
    {
      "cell_type": "code",
      "metadata": {
        "id": "KIYhh2TaW2lv",
        "colab_type": "code",
        "outputId": "c5252566-23e7-48ac-c874-54a51d02f8b4",
        "colab": {
          "base_uri": "https://localhost:8080/",
          "height": 1000
        }
      },
      "source": [
        "data2 = pd.read_csv(\"relative_movies.csv\") \n",
        "\n",
        "for row in data2.itertuples(index=True, name='Pandas'):\n",
        "  list2 = []\n",
        "  movie_title_1 = clean_text(getattr(row,'movie_title'))\n",
        "  for movie in getattr(row, 'relative_movies').split(\",\"):\n",
        "            list2.append(movie)\n",
        "  \n",
        "  list1 = simple_recommender_2(movie_title_1)\n",
        "  flat_list = [item for sublist in list1 for item in sublist]\n",
        "  display(movie_title_1)\n",
        "  display(jaccard_similarity(flat_list,list2))\n",
        "  \n",
        "\n"
      ],
      "execution_count": 0,
      "outputs": [
        {
          "output_type": "display_data",
          "data": {
            "text/plain": [
              "'Friday the 13th Part VII: The New Blood'"
            ]
          },
          "metadata": {
            "tags": []
          }
        },
        {
          "output_type": "display_data",
          "data": {
            "text/plain": [
              "0.0"
            ]
          },
          "metadata": {
            "tags": []
          }
        },
        {
          "output_type": "display_data",
          "data": {
            "text/plain": [
              "'A Million Ways to Die in the West'"
            ]
          },
          "metadata": {
            "tags": []
          }
        },
        {
          "output_type": "display_data",
          "data": {
            "text/plain": [
              "0.0"
            ]
          },
          "metadata": {
            "tags": []
          }
        },
        {
          "output_type": "display_data",
          "data": {
            "text/plain": [
              "'Phat Girlz'"
            ]
          },
          "metadata": {
            "tags": []
          }
        },
        {
          "output_type": "display_data",
          "data": {
            "text/plain": [
              "0.0"
            ]
          },
          "metadata": {
            "tags": []
          }
        },
        {
          "output_type": "display_data",
          "data": {
            "text/plain": [
              "'Water'"
            ]
          },
          "metadata": {
            "tags": []
          }
        },
        {
          "output_type": "display_data",
          "data": {
            "text/plain": [
              "0.0"
            ]
          },
          "metadata": {
            "tags": []
          }
        },
        {
          "output_type": "display_data",
          "data": {
            "text/plain": [
              "'Killers'"
            ]
          },
          "metadata": {
            "tags": []
          }
        },
        {
          "output_type": "display_data",
          "data": {
            "text/plain": [
              "0.05263157894736842"
            ]
          },
          "metadata": {
            "tags": []
          }
        },
        {
          "output_type": "display_data",
          "data": {
            "text/plain": [
              "'Halloween 4: The Return of Michael Myers'"
            ]
          },
          "metadata": {
            "tags": []
          }
        },
        {
          "output_type": "display_data",
          "data": {
            "text/plain": [
              "0.06666666666666667"
            ]
          },
          "metadata": {
            "tags": []
          }
        },
        {
          "output_type": "display_data",
          "data": {
            "text/plain": [
              "'Eye See You'"
            ]
          },
          "metadata": {
            "tags": []
          }
        },
        {
          "output_type": "display_data",
          "data": {
            "text/plain": [
              "0.06666666666666667"
            ]
          },
          "metadata": {
            "tags": []
          }
        },
        {
          "output_type": "display_data",
          "data": {
            "text/plain": [
              "'The Glimmer Man'"
            ]
          },
          "metadata": {
            "tags": []
          }
        },
        {
          "output_type": "display_data",
          "data": {
            "text/plain": [
              "0.0"
            ]
          },
          "metadata": {
            "tags": []
          }
        },
        {
          "output_type": "display_data",
          "data": {
            "text/plain": [
              "'Crazy/Beautiful'"
            ]
          },
          "metadata": {
            "tags": []
          }
        },
        {
          "output_type": "display_data",
          "data": {
            "text/plain": [
              "0.0"
            ]
          },
          "metadata": {
            "tags": []
          }
        },
        {
          "output_type": "display_data",
          "data": {
            "text/plain": [
              "'Species'"
            ]
          },
          "metadata": {
            "tags": []
          }
        },
        {
          "output_type": "display_data",
          "data": {
            "text/plain": [
              "0.25"
            ]
          },
          "metadata": {
            "tags": []
          }
        },
        {
          "output_type": "display_data",
          "data": {
            "text/plain": [
              "'Krrish'"
            ]
          },
          "metadata": {
            "tags": []
          }
        },
        {
          "output_type": "display_data",
          "data": {
            "text/plain": [
              "0.0"
            ]
          },
          "metadata": {
            "tags": []
          }
        },
        {
          "output_type": "display_data",
          "data": {
            "text/plain": [
              "'Clockstoppers'"
            ]
          },
          "metadata": {
            "tags": []
          }
        },
        {
          "output_type": "display_data",
          "data": {
            "text/plain": [
              "0.125"
            ]
          },
          "metadata": {
            "tags": []
          }
        },
        {
          "output_type": "display_data",
          "data": {
            "text/plain": [
              "'Signs'"
            ]
          },
          "metadata": {
            "tags": []
          }
        },
        {
          "output_type": "display_data",
          "data": {
            "text/plain": [
              "0.4"
            ]
          },
          "metadata": {
            "tags": []
          }
        },
        {
          "output_type": "display_data",
          "data": {
            "text/plain": [
              "'White Squall'"
            ]
          },
          "metadata": {
            "tags": []
          }
        },
        {
          "output_type": "display_data",
          "data": {
            "text/plain": [
              "0.05263157894736842"
            ]
          },
          "metadata": {
            "tags": []
          }
        },
        {
          "output_type": "display_data",
          "data": {
            "text/plain": [
              "'Because I Said So'"
            ]
          },
          "metadata": {
            "tags": []
          }
        },
        {
          "output_type": "display_data",
          "data": {
            "text/plain": [
              "0.0625"
            ]
          },
          "metadata": {
            "tags": []
          }
        },
        {
          "output_type": "display_data",
          "data": {
            "text/plain": [
              "'The Taking of Pelham 1 2 3'"
            ]
          },
          "metadata": {
            "tags": []
          }
        },
        {
          "output_type": "display_data",
          "data": {
            "text/plain": [
              "0.3888888888888889"
            ]
          },
          "metadata": {
            "tags": []
          }
        },
        {
          "output_type": "display_data",
          "data": {
            "text/plain": [
              "'The Guilt Trip'"
            ]
          },
          "metadata": {
            "tags": []
          }
        },
        {
          "output_type": "display_data",
          "data": {
            "text/plain": [
              "0.0"
            ]
          },
          "metadata": {
            "tags": []
          }
        },
        {
          "output_type": "display_data",
          "data": {
            "text/plain": [
              "'Exiled'"
            ]
          },
          "metadata": {
            "tags": []
          }
        },
        {
          "output_type": "display_data",
          "data": {
            "text/plain": [
              "0.0"
            ]
          },
          "metadata": {
            "tags": []
          }
        },
        {
          "output_type": "display_data",
          "data": {
            "text/plain": [
              "'Heartbeeps'"
            ]
          },
          "metadata": {
            "tags": []
          }
        },
        {
          "output_type": "display_data",
          "data": {
            "text/plain": [
              "0.07142857142857142"
            ]
          },
          "metadata": {
            "tags": []
          }
        },
        {
          "output_type": "display_data",
          "data": {
            "text/plain": [
              "'Among Giants'"
            ]
          },
          "metadata": {
            "tags": []
          }
        },
        {
          "output_type": "display_data",
          "data": {
            "text/plain": [
              "0.0"
            ]
          },
          "metadata": {
            "tags": []
          }
        },
        {
          "output_type": "display_data",
          "data": {
            "text/plain": [
              "'Mandela: Long Walk to Freedom'"
            ]
          },
          "metadata": {
            "tags": []
          }
        },
        {
          "output_type": "display_data",
          "data": {
            "text/plain": [
              "0.0"
            ]
          },
          "metadata": {
            "tags": []
          }
        },
        {
          "output_type": "display_data",
          "data": {
            "text/plain": [
              "'Against the Wild'"
            ]
          },
          "metadata": {
            "tags": []
          }
        },
        {
          "output_type": "display_data",
          "data": {
            "text/plain": [
              "0.0"
            ]
          },
          "metadata": {
            "tags": []
          }
        },
        {
          "output_type": "display_data",
          "data": {
            "text/plain": [
              "'Gattaca'"
            ]
          },
          "metadata": {
            "tags": []
          }
        },
        {
          "output_type": "display_data",
          "data": {
            "text/plain": [
              "0.26666666666666666"
            ]
          },
          "metadata": {
            "tags": []
          }
        },
        {
          "output_type": "display_data",
          "data": {
            "text/plain": [
              "'Ride with the Devil'"
            ]
          },
          "metadata": {
            "tags": []
          }
        },
        {
          "output_type": "display_data",
          "data": {
            "text/plain": [
              "0.0"
            ]
          },
          "metadata": {
            "tags": []
          }
        },
        {
          "output_type": "display_data",
          "data": {
            "text/plain": [
              "'Lost in Space'"
            ]
          },
          "metadata": {
            "tags": []
          }
        },
        {
          "output_type": "display_data",
          "data": {
            "text/plain": [
              "0.11764705882352941"
            ]
          },
          "metadata": {
            "tags": []
          }
        },
        {
          "output_type": "display_data",
          "data": {
            "text/plain": [
              "'Hidalgo'"
            ]
          },
          "metadata": {
            "tags": []
          }
        },
        {
          "output_type": "display_data",
          "data": {
            "text/plain": [
              "0.0"
            ]
          },
          "metadata": {
            "tags": []
          }
        },
        {
          "output_type": "display_data",
          "data": {
            "text/plain": [
              "'Fabled'"
            ]
          },
          "metadata": {
            "tags": []
          }
        },
        {
          "output_type": "display_data",
          "data": {
            "text/plain": [
              "0.0"
            ]
          },
          "metadata": {
            "tags": []
          }
        },
        {
          "output_type": "display_data",
          "data": {
            "text/plain": [
              "'The Hobbit: An Unexpected Journey'"
            ]
          },
          "metadata": {
            "tags": []
          }
        },
        {
          "output_type": "display_data",
          "data": {
            "text/plain": [
              "0.3333333333333333"
            ]
          },
          "metadata": {
            "tags": []
          }
        },
        {
          "output_type": "display_data",
          "data": {
            "text/plain": [
              "'House of 1000 Corpses'"
            ]
          },
          "metadata": {
            "tags": []
          }
        },
        {
          "output_type": "display_data",
          "data": {
            "text/plain": [
              "0.0"
            ]
          },
          "metadata": {
            "tags": []
          }
        },
        {
          "output_type": "display_data",
          "data": {
            "text/plain": [
              "'50/50'"
            ]
          },
          "metadata": {
            "tags": []
          }
        },
        {
          "output_type": "display_data",
          "data": {
            "text/plain": [
              "0.13333333333333333"
            ]
          },
          "metadata": {
            "tags": []
          }
        },
        {
          "output_type": "display_data",
          "data": {
            "text/plain": [
              "'Lilya 4-Ever'"
            ]
          },
          "metadata": {
            "tags": []
          }
        },
        {
          "output_type": "display_data",
          "data": {
            "text/plain": [
              "0.0"
            ]
          },
          "metadata": {
            "tags": []
          }
        },
        {
          "output_type": "display_data",
          "data": {
            "text/plain": [
              "'A Walk Among the Tombstones'"
            ]
          },
          "metadata": {
            "tags": []
          }
        },
        {
          "output_type": "display_data",
          "data": {
            "text/plain": [
              "0.0"
            ]
          },
          "metadata": {
            "tags": []
          }
        },
        {
          "output_type": "display_data",
          "data": {
            "text/plain": [
              "'The Knife of Don Juan'"
            ]
          },
          "metadata": {
            "tags": []
          }
        },
        {
          "output_type": "display_data",
          "data": {
            "text/plain": [
              "0.0"
            ]
          },
          "metadata": {
            "tags": []
          }
        },
        {
          "output_type": "display_data",
          "data": {
            "text/plain": [
              "'Starsuckers'"
            ]
          },
          "metadata": {
            "tags": []
          }
        },
        {
          "output_type": "display_data",
          "data": {
            "text/plain": [
              "0.0"
            ]
          },
          "metadata": {
            "tags": []
          }
        },
        {
          "output_type": "display_data",
          "data": {
            "text/plain": [
              "'The Hills Have Eyes II'"
            ]
          },
          "metadata": {
            "tags": []
          }
        },
        {
          "output_type": "display_data",
          "data": {
            "text/plain": [
              "0.0"
            ]
          },
          "metadata": {
            "tags": []
          }
        },
        {
          "output_type": "display_data",
          "data": {
            "text/plain": [
              "'A Walk Among the Tombstones'"
            ]
          },
          "metadata": {
            "tags": []
          }
        },
        {
          "output_type": "display_data",
          "data": {
            "text/plain": [
              "0.0"
            ]
          },
          "metadata": {
            "tags": []
          }
        },
        {
          "output_type": "display_data",
          "data": {
            "text/plain": [
              "'Of Horses and Men'"
            ]
          },
          "metadata": {
            "tags": []
          }
        },
        {
          "output_type": "display_data",
          "data": {
            "text/plain": [
              "0.0"
            ]
          },
          "metadata": {
            "tags": []
          }
        },
        {
          "output_type": "display_data",
          "data": {
            "text/plain": [
              "'Star Wars: The Clone Wars            '"
            ]
          },
          "metadata": {
            "tags": []
          }
        },
        {
          "output_type": "display_data",
          "data": {
            "text/plain": [
              "0.0"
            ]
          },
          "metadata": {
            "tags": []
          }
        },
        {
          "output_type": "display_data",
          "data": {
            "text/plain": [
              "'Secretary'"
            ]
          },
          "metadata": {
            "tags": []
          }
        },
        {
          "output_type": "display_data",
          "data": {
            "text/plain": [
              "0.06666666666666667"
            ]
          },
          "metadata": {
            "tags": []
          }
        },
        {
          "output_type": "display_data",
          "data": {
            "text/plain": [
              "'The Descendants'"
            ]
          },
          "metadata": {
            "tags": []
          }
        },
        {
          "output_type": "display_data",
          "data": {
            "text/plain": [
              "0.11764705882352941"
            ]
          },
          "metadata": {
            "tags": []
          }
        },
        {
          "output_type": "display_data",
          "data": {
            "text/plain": [
              "'Dark Water'"
            ]
          },
          "metadata": {
            "tags": []
          }
        },
        {
          "output_type": "display_data",
          "data": {
            "text/plain": [
              "0.0"
            ]
          },
          "metadata": {
            "tags": []
          }
        },
        {
          "output_type": "display_data",
          "data": {
            "text/plain": [
              "'The Verdict'"
            ]
          },
          "metadata": {
            "tags": []
          }
        },
        {
          "output_type": "display_data",
          "data": {
            "text/plain": [
              "0.16666666666666666"
            ]
          },
          "metadata": {
            "tags": []
          }
        },
        {
          "output_type": "display_data",
          "data": {
            "text/plain": [
              "'Inside Llewyn Davis'"
            ]
          },
          "metadata": {
            "tags": []
          }
        },
        {
          "output_type": "display_data",
          "data": {
            "text/plain": [
              "0.0"
            ]
          },
          "metadata": {
            "tags": []
          }
        },
        {
          "output_type": "display_data",
          "data": {
            "text/plain": [
              "'Philomena'"
            ]
          },
          "metadata": {
            "tags": []
          }
        },
        {
          "output_type": "display_data",
          "data": {
            "text/plain": [
              "0.0"
            ]
          },
          "metadata": {
            "tags": []
          }
        },
        {
          "output_type": "display_data",
          "data": {
            "text/plain": [
              "'The Outrageous Sophie Tucker'"
            ]
          },
          "metadata": {
            "tags": []
          }
        },
        {
          "output_type": "display_data",
          "data": {
            "text/plain": [
              "0.09090909090909091"
            ]
          },
          "metadata": {
            "tags": []
          }
        },
        {
          "output_type": "display_data",
          "data": {
            "text/plain": [
              "'The Brothers Solomon'"
            ]
          },
          "metadata": {
            "tags": []
          }
        },
        {
          "output_type": "display_data",
          "data": {
            "text/plain": [
              "0.0"
            ]
          },
          "metadata": {
            "tags": []
          }
        },
        {
          "output_type": "display_data",
          "data": {
            "text/plain": [
              "'Bicentennial Man'"
            ]
          },
          "metadata": {
            "tags": []
          }
        },
        {
          "output_type": "display_data",
          "data": {
            "text/plain": [
              "0.05263157894736842"
            ]
          },
          "metadata": {
            "tags": []
          }
        },
        {
          "output_type": "display_data",
          "data": {
            "text/plain": [
              "'London to Brighton'"
            ]
          },
          "metadata": {
            "tags": []
          }
        },
        {
          "output_type": "display_data",
          "data": {
            "text/plain": [
              "0.06666666666666667"
            ]
          },
          "metadata": {
            "tags": []
          }
        },
        {
          "output_type": "display_data",
          "data": {
            "text/plain": [
              "'Salvador'"
            ]
          },
          "metadata": {
            "tags": []
          }
        },
        {
          "output_type": "display_data",
          "data": {
            "text/plain": [
              "0.045454545454545456"
            ]
          },
          "metadata": {
            "tags": []
          }
        },
        {
          "output_type": "display_data",
          "data": {
            "text/plain": [
              "'Interview with the Assassin'"
            ]
          },
          "metadata": {
            "tags": []
          }
        },
        {
          "output_type": "display_data",
          "data": {
            "text/plain": [
              "0.0"
            ]
          },
          "metadata": {
            "tags": []
          }
        },
        {
          "output_type": "display_data",
          "data": {
            "text/plain": [
              "'An American Carol'"
            ]
          },
          "metadata": {
            "tags": []
          }
        },
        {
          "output_type": "display_data",
          "data": {
            "text/plain": [
              "0.0"
            ]
          },
          "metadata": {
            "tags": []
          }
        },
        {
          "output_type": "display_data",
          "data": {
            "text/plain": [
              "'Space: Above and Beyond            '"
            ]
          },
          "metadata": {
            "tags": []
          }
        },
        {
          "output_type": "display_data",
          "data": {
            "text/plain": [
              "0.0"
            ]
          },
          "metadata": {
            "tags": []
          }
        },
        {
          "output_type": "display_data",
          "data": {
            "text/plain": [
              "'True Lies'"
            ]
          },
          "metadata": {
            "tags": []
          }
        },
        {
          "output_type": "display_data",
          "data": {
            "text/plain": [
              "0.05263157894736842"
            ]
          },
          "metadata": {
            "tags": []
          }
        },
        {
          "output_type": "display_data",
          "data": {
            "text/plain": [
              "'Zero Effect'"
            ]
          },
          "metadata": {
            "tags": []
          }
        },
        {
          "output_type": "display_data",
          "data": {
            "text/plain": [
              "0.0"
            ]
          },
          "metadata": {
            "tags": []
          }
        },
        {
          "output_type": "display_data",
          "data": {
            "text/plain": [
              "'Mary Reilly'"
            ]
          },
          "metadata": {
            "tags": []
          }
        },
        {
          "output_type": "display_data",
          "data": {
            "text/plain": [
              "0.0"
            ]
          },
          "metadata": {
            "tags": []
          }
        },
        {
          "output_type": "display_data",
          "data": {
            "text/plain": [
              "'The Shining'"
            ]
          },
          "metadata": {
            "tags": []
          }
        },
        {
          "output_type": "display_data",
          "data": {
            "text/plain": [
              "0.0"
            ]
          },
          "metadata": {
            "tags": []
          }
        },
        {
          "output_type": "display_data",
          "data": {
            "text/plain": [
              "'Guardians of the Galaxy'"
            ]
          },
          "metadata": {
            "tags": []
          }
        },
        {
          "output_type": "display_data",
          "data": {
            "text/plain": [
              "0.06666666666666667"
            ]
          },
          "metadata": {
            "tags": []
          }
        },
        {
          "output_type": "display_data",
          "data": {
            "text/plain": [
              "'Opal Dream'"
            ]
          },
          "metadata": {
            "tags": []
          }
        },
        {
          "output_type": "display_data",
          "data": {
            "text/plain": [
              "0.0"
            ]
          },
          "metadata": {
            "tags": []
          }
        },
        {
          "output_type": "display_data",
          "data": {
            "text/plain": [
              "'The Score'"
            ]
          },
          "metadata": {
            "tags": []
          }
        },
        {
          "output_type": "display_data",
          "data": {
            "text/plain": [
              "0.0625"
            ]
          },
          "metadata": {
            "tags": []
          }
        },
        {
          "output_type": "display_data",
          "data": {
            "text/plain": [
              "'Driven'"
            ]
          },
          "metadata": {
            "tags": []
          }
        },
        {
          "output_type": "display_data",
          "data": {
            "text/plain": [
              "0.0"
            ]
          },
          "metadata": {
            "tags": []
          }
        },
        {
          "output_type": "display_data",
          "data": {
            "text/plain": [
              "'The Vatican Tapes'"
            ]
          },
          "metadata": {
            "tags": []
          }
        },
        {
          "output_type": "display_data",
          "data": {
            "text/plain": [
              "0.26666666666666666"
            ]
          },
          "metadata": {
            "tags": []
          }
        },
        {
          "output_type": "display_data",
          "data": {
            "text/plain": [
              "'The Generals Daughter'"
            ]
          },
          "metadata": {
            "tags": []
          }
        },
        {
          "output_type": "display_data",
          "data": {
            "text/plain": [
              "0.3333333333333333"
            ]
          },
          "metadata": {
            "tags": []
          }
        },
        {
          "output_type": "display_data",
          "data": {
            "text/plain": [
              "'Autumn in New York'"
            ]
          },
          "metadata": {
            "tags": []
          }
        },
        {
          "output_type": "display_data",
          "data": {
            "text/plain": [
              "0.0"
            ]
          },
          "metadata": {
            "tags": []
          }
        },
        {
          "output_type": "display_data",
          "data": {
            "text/plain": [
              "'My Last Day Without You'"
            ]
          },
          "metadata": {
            "tags": []
          }
        },
        {
          "output_type": "display_data",
          "data": {
            "text/plain": [
              "0.0"
            ]
          },
          "metadata": {
            "tags": []
          }
        },
        {
          "output_type": "display_data",
          "data": {
            "text/plain": [
              "'Extremely Loud & Incredibly Close'"
            ]
          },
          "metadata": {
            "tags": []
          }
        },
        {
          "output_type": "display_data",
          "data": {
            "text/plain": [
              "0.0"
            ]
          },
          "metadata": {
            "tags": []
          }
        },
        {
          "output_type": "display_data",
          "data": {
            "text/plain": [
              "'The Last House on the Left'"
            ]
          },
          "metadata": {
            "tags": []
          }
        },
        {
          "output_type": "display_data",
          "data": {
            "text/plain": [
              "0.0"
            ]
          },
          "metadata": {
            "tags": []
          }
        },
        {
          "output_type": "display_data",
          "data": {
            "text/plain": [
              "'Where the Wild Things Are'"
            ]
          },
          "metadata": {
            "tags": []
          }
        },
        {
          "output_type": "display_data",
          "data": {
            "text/plain": [
              "0.058823529411764705"
            ]
          },
          "metadata": {
            "tags": []
          }
        },
        {
          "output_type": "display_data",
          "data": {
            "text/plain": [
              "'Do the Right Thing'"
            ]
          },
          "metadata": {
            "tags": []
          }
        },
        {
          "output_type": "display_data",
          "data": {
            "text/plain": [
              "0.07142857142857142"
            ]
          },
          "metadata": {
            "tags": []
          }
        },
        {
          "output_type": "display_data",
          "data": {
            "text/plain": [
              "'Brave'"
            ]
          },
          "metadata": {
            "tags": []
          }
        },
        {
          "output_type": "display_data",
          "data": {
            "text/plain": [
              "0.0"
            ]
          },
          "metadata": {
            "tags": []
          }
        },
        {
          "output_type": "display_data",
          "data": {
            "text/plain": [
              "'Tidal Wave'"
            ]
          },
          "metadata": {
            "tags": []
          }
        },
        {
          "output_type": "display_data",
          "data": {
            "text/plain": [
              "0.0"
            ]
          },
          "metadata": {
            "tags": []
          }
        },
        {
          "output_type": "display_data",
          "data": {
            "text/plain": [
              "'The Gunman'"
            ]
          },
          "metadata": {
            "tags": []
          }
        },
        {
          "output_type": "display_data",
          "data": {
            "text/plain": [
              "0.125"
            ]
          },
          "metadata": {
            "tags": []
          }
        },
        {
          "output_type": "display_data",
          "data": {
            "text/plain": [
              "'Save the Last Dance'"
            ]
          },
          "metadata": {
            "tags": []
          }
        },
        {
          "output_type": "display_data",
          "data": {
            "text/plain": [
              "0.0"
            ]
          },
          "metadata": {
            "tags": []
          }
        },
        {
          "output_type": "display_data",
          "data": {
            "text/plain": [
              "'The Best Years of Our Lives'"
            ]
          },
          "metadata": {
            "tags": []
          }
        },
        {
          "output_type": "display_data",
          "data": {
            "text/plain": [
              "0.0"
            ]
          },
          "metadata": {
            "tags": []
          }
        },
        {
          "output_type": "display_data",
          "data": {
            "text/plain": [
              "'Cube'"
            ]
          },
          "metadata": {
            "tags": []
          }
        },
        {
          "output_type": "display_data",
          "data": {
            "text/plain": [
              "0.0625"
            ]
          },
          "metadata": {
            "tags": []
          }
        },
        {
          "output_type": "display_data",
          "data": {
            "text/plain": [
              "'The Past is a Grotesque Animal'"
            ]
          },
          "metadata": {
            "tags": []
          }
        },
        {
          "output_type": "display_data",
          "data": {
            "text/plain": [
              "0.07142857142857142"
            ]
          },
          "metadata": {
            "tags": []
          }
        },
        {
          "output_type": "display_data",
          "data": {
            "text/plain": [
              "'Due Date'"
            ]
          },
          "metadata": {
            "tags": []
          }
        },
        {
          "output_type": "display_data",
          "data": {
            "text/plain": [
              "0.0"
            ]
          },
          "metadata": {
            "tags": []
          }
        },
        {
          "output_type": "display_data",
          "data": {
            "text/plain": [
              "'The Funeral'"
            ]
          },
          "metadata": {
            "tags": []
          }
        },
        {
          "output_type": "display_data",
          "data": {
            "text/plain": [
              "0.0"
            ]
          },
          "metadata": {
            "tags": []
          }
        },
        {
          "output_type": "display_data",
          "data": {
            "text/plain": [
              "'Julie & Julia'"
            ]
          },
          "metadata": {
            "tags": []
          }
        },
        {
          "output_type": "display_data",
          "data": {
            "text/plain": [
              "0.06666666666666667"
            ]
          },
          "metadata": {
            "tags": []
          }
        },
        {
          "output_type": "display_data",
          "data": {
            "text/plain": [
              "'Legends of Oz: Dorothys Return'"
            ]
          },
          "metadata": {
            "tags": []
          }
        },
        {
          "output_type": "display_data",
          "data": {
            "text/plain": [
              "0.0"
            ]
          },
          "metadata": {
            "tags": []
          }
        },
        {
          "output_type": "display_data",
          "data": {
            "text/plain": [
              "'21'"
            ]
          },
          "metadata": {
            "tags": []
          }
        },
        {
          "output_type": "display_data",
          "data": {
            "text/plain": [
              "0.06666666666666667"
            ]
          },
          "metadata": {
            "tags": []
          }
        },
        {
          "output_type": "display_data",
          "data": {
            "text/plain": [
              "'Thumbsucker'"
            ]
          },
          "metadata": {
            "tags": []
          }
        },
        {
          "output_type": "display_data",
          "data": {
            "text/plain": [
              "0.0"
            ]
          },
          "metadata": {
            "tags": []
          }
        },
        {
          "output_type": "display_data",
          "data": {
            "text/plain": [
              "'Duma'"
            ]
          },
          "metadata": {
            "tags": []
          }
        },
        {
          "output_type": "display_data",
          "data": {
            "text/plain": [
              "0.0"
            ]
          },
          "metadata": {
            "tags": []
          }
        },
        {
          "output_type": "display_data",
          "data": {
            "text/plain": [
              "'The Nut Job'"
            ]
          },
          "metadata": {
            "tags": []
          }
        },
        {
          "output_type": "display_data",
          "data": {
            "text/plain": [
              "0.0"
            ]
          },
          "metadata": {
            "tags": []
          }
        },
        {
          "output_type": "display_data",
          "data": {
            "text/plain": [
              "'Cheaper by the Dozen 2'"
            ]
          },
          "metadata": {
            "tags": []
          }
        },
        {
          "output_type": "display_data",
          "data": {
            "text/plain": [
              "0.0"
            ]
          },
          "metadata": {
            "tags": []
          }
        },
        {
          "output_type": "display_data",
          "data": {
            "text/plain": [
              "'Dreamer: Inspired by a True Story'"
            ]
          },
          "metadata": {
            "tags": []
          }
        },
        {
          "output_type": "display_data",
          "data": {
            "text/plain": [
              "0.0"
            ]
          },
          "metadata": {
            "tags": []
          }
        },
        {
          "output_type": "display_data",
          "data": {
            "text/plain": [
              "'Star Trek V: The Final Frontier'"
            ]
          },
          "metadata": {
            "tags": []
          }
        },
        {
          "output_type": "display_data",
          "data": {
            "text/plain": [
              "0.0"
            ]
          },
          "metadata": {
            "tags": []
          }
        },
        {
          "output_type": "display_data",
          "data": {
            "text/plain": [
              "'The Dead Undead'"
            ]
          },
          "metadata": {
            "tags": []
          }
        },
        {
          "output_type": "display_data",
          "data": {
            "text/plain": [
              "0.0"
            ]
          },
          "metadata": {
            "tags": []
          }
        },
        {
          "output_type": "display_data",
          "data": {
            "text/plain": [
              "'Shark Tale'"
            ]
          },
          "metadata": {
            "tags": []
          }
        },
        {
          "output_type": "display_data",
          "data": {
            "text/plain": [
              "0.0"
            ]
          },
          "metadata": {
            "tags": []
          }
        },
        {
          "output_type": "display_data",
          "data": {
            "text/plain": [
              "'Bullet to the Head'"
            ]
          },
          "metadata": {
            "tags": []
          }
        },
        {
          "output_type": "display_data",
          "data": {
            "text/plain": [
              "0.0625"
            ]
          },
          "metadata": {
            "tags": []
          }
        },
        {
          "output_type": "display_data",
          "data": {
            "text/plain": [
              "'Raymond Did It'"
            ]
          },
          "metadata": {
            "tags": []
          }
        },
        {
          "output_type": "display_data",
          "data": {
            "text/plain": [
              "0.0"
            ]
          },
          "metadata": {
            "tags": []
          }
        },
        {
          "output_type": "display_data",
          "data": {
            "text/plain": [
              "'Striptease'"
            ]
          },
          "metadata": {
            "tags": []
          }
        },
        {
          "output_type": "display_data",
          "data": {
            "text/plain": [
              "0.0"
            ]
          },
          "metadata": {
            "tags": []
          }
        },
        {
          "output_type": "display_data",
          "data": {
            "text/plain": [
              "'Dragon Nest: Warriors Dawn'"
            ]
          },
          "metadata": {
            "tags": []
          }
        },
        {
          "output_type": "display_data",
          "data": {
            "text/plain": [
              "0.0"
            ]
          },
          "metadata": {
            "tags": []
          }
        },
        {
          "output_type": "display_data",
          "data": {
            "text/plain": [
              "'Stiff Upper Lips'"
            ]
          },
          "metadata": {
            "tags": []
          }
        },
        {
          "output_type": "display_data",
          "data": {
            "text/plain": [
              "0.0"
            ]
          },
          "metadata": {
            "tags": []
          }
        },
        {
          "output_type": "display_data",
          "data": {
            "text/plain": [
              "'Casper'"
            ]
          },
          "metadata": {
            "tags": []
          }
        },
        {
          "output_type": "display_data",
          "data": {
            "text/plain": [
              "0.0"
            ]
          },
          "metadata": {
            "tags": []
          }
        },
        {
          "output_type": "display_data",
          "data": {
            "text/plain": [
              "'The Velocity of Gary'"
            ]
          },
          "metadata": {
            "tags": []
          }
        },
        {
          "output_type": "display_data",
          "data": {
            "text/plain": [
              "0.0"
            ]
          },
          "metadata": {
            "tags": []
          }
        },
        {
          "output_type": "display_data",
          "data": {
            "text/plain": [
              "'A Monster in Paris'"
            ]
          },
          "metadata": {
            "tags": []
          }
        },
        {
          "output_type": "display_data",
          "data": {
            "text/plain": [
              "0.0"
            ]
          },
          "metadata": {
            "tags": []
          }
        },
        {
          "output_type": "display_data",
          "data": {
            "text/plain": [
              "'The Sound and the Shadow'"
            ]
          },
          "metadata": {
            "tags": []
          }
        },
        {
          "output_type": "display_data",
          "data": {
            "text/plain": [
              "0.0"
            ]
          },
          "metadata": {
            "tags": []
          }
        },
        {
          "output_type": "display_data",
          "data": {
            "text/plain": [
              "'The Perfect Game'"
            ]
          },
          "metadata": {
            "tags": []
          }
        },
        {
          "output_type": "display_data",
          "data": {
            "text/plain": [
              "0.0"
            ]
          },
          "metadata": {
            "tags": []
          }
        },
        {
          "output_type": "display_data",
          "data": {
            "text/plain": [
              "'The Thin Red Line'"
            ]
          },
          "metadata": {
            "tags": []
          }
        },
        {
          "output_type": "display_data",
          "data": {
            "text/plain": [
              "0.0"
            ]
          },
          "metadata": {
            "tags": []
          }
        },
        {
          "output_type": "display_data",
          "data": {
            "text/plain": [
              "'The Spanish Prisoner'"
            ]
          },
          "metadata": {
            "tags": []
          }
        },
        {
          "output_type": "display_data",
          "data": {
            "text/plain": [
              "0.0"
            ]
          },
          "metadata": {
            "tags": []
          }
        },
        {
          "output_type": "display_data",
          "data": {
            "text/plain": [
              "'Harriet the Spy'"
            ]
          },
          "metadata": {
            "tags": []
          }
        },
        {
          "output_type": "display_data",
          "data": {
            "text/plain": [
              "0.0"
            ]
          },
          "metadata": {
            "tags": []
          }
        },
        {
          "output_type": "display_data",
          "data": {
            "text/plain": [
              "'The Vatican Tapes'"
            ]
          },
          "metadata": {
            "tags": []
          }
        },
        {
          "output_type": "display_data",
          "data": {
            "text/plain": [
              "0.26666666666666666"
            ]
          },
          "metadata": {
            "tags": []
          }
        }
      ]
    },
    {
      "cell_type": "code",
      "metadata": {
        "id": "sC8q7C3eo63c",
        "colab_type": "code",
        "outputId": "5aebcaf2-423b-4e50-c300-d36d83bff92f",
        "colab": {
          "base_uri": "https://localhost:8080/",
          "height": 34
        }
      },
      "source": [
        "list1 = simple_recommender('Killers')\n",
        "simple_recommender('Killers')\n",
        "flat_list = [item for sublist in list1 for item in sublist]\n",
        "list2 = ['21','Abduction','The Devils Advocate','No Country for Old Men','Colombiana','Kansas City','Side Effects','Changeling','The Walk','The One']\n",
        "jaccard_similarity(flat_list,list2)"
      ],
      "execution_count": 0,
      "outputs": [
        {
          "output_type": "execute_result",
          "data": {
            "text/plain": [
              "0.06060606060606061"
            ]
          },
          "metadata": {
            "tags": []
          },
          "execution_count": 16
        }
      ]
    },
    {
      "cell_type": "code",
      "metadata": {
        "id": "Z5OCrtcWzpeF",
        "colab_type": "code",
        "outputId": "f5b0b896-e2bf-43ef-8b09-798d500c91b7",
        "colab": {
          "base_uri": "https://localhost:8080/",
          "height": 34
        }
      },
      "source": [
        "l2 = simple_recommender_2('Killers')\n",
        "l22 = [item for sublist in l2 for item in sublist]\n",
        "jaccard_similarity(l22,list2)"
      ],
      "execution_count": 0,
      "outputs": [
        {
          "output_type": "execute_result",
          "data": {
            "text/plain": [
              "0.05263157894736842"
            ]
          },
          "metadata": {
            "tags": []
          },
          "execution_count": 17
        }
      ]
    },
    {
      "cell_type": "markdown",
      "metadata": {
        "colab_type": "text",
        "id": "aAM9o2UZFbMC"
      },
      "source": [
        "# **3ο Μέρος: Recommendation System Με βάση τις προτιμήσεις-αξιολογήσεις του χρήστη**\n",
        "\n",
        "Αρχικά μελετάμε τις αξιολογήσεις κάθε χρήστη για να καταλάβουμε την δομή και τις πληροφορίες κάθε αρχείου.\n",
        "\n",
        "\n",
        "\n",
        "\n"
      ]
    },
    {
      "cell_type": "code",
      "metadata": {
        "colab_type": "code",
        "id": "wdheN52GETd8",
        "outputId": "94c89638-477a-4904-b86a-9286fb717d03",
        "colab": {
          "base_uri": "https://localhost:8080/",
          "height": 204
        }
      },
      "source": [
        "user = \"user1.csv\"\n",
        "ratings = pd.read_csv(user) \n",
        "\n",
        "# Preview the first 5 lines of the loaded data \n",
        "ratings.head()"
      ],
      "execution_count": 0,
      "outputs": [
        {
          "output_type": "execute_result",
          "data": {
            "text/html": [
              "<div>\n",
              "<style scoped>\n",
              "    .dataframe tbody tr th:only-of-type {\n",
              "        vertical-align: middle;\n",
              "    }\n",
              "\n",
              "    .dataframe tbody tr th {\n",
              "        vertical-align: top;\n",
              "    }\n",
              "\n",
              "    .dataframe thead th {\n",
              "        text-align: right;\n",
              "    }\n",
              "</style>\n",
              "<table border=\"1\" class=\"dataframe\">\n",
              "  <thead>\n",
              "    <tr style=\"text-align: right;\">\n",
              "      <th></th>\n",
              "      <th>movie_title</th>\n",
              "      <th>rating</th>\n",
              "    </tr>\n",
              "  </thead>\n",
              "  <tbody>\n",
              "    <tr>\n",
              "      <th>0</th>\n",
              "      <td>Heavy Metal</td>\n",
              "      <td>4</td>\n",
              "    </tr>\n",
              "    <tr>\n",
              "      <th>1</th>\n",
              "      <td>The Croods</td>\n",
              "      <td>5</td>\n",
              "    </tr>\n",
              "    <tr>\n",
              "      <th>2</th>\n",
              "      <td>Watchmen</td>\n",
              "      <td>4</td>\n",
              "    </tr>\n",
              "    <tr>\n",
              "      <th>3</th>\n",
              "      <td>The Matrix</td>\n",
              "      <td>4</td>\n",
              "    </tr>\n",
              "    <tr>\n",
              "      <th>4</th>\n",
              "      <td>The Emperors New Groove</td>\n",
              "      <td>5</td>\n",
              "    </tr>\n",
              "  </tbody>\n",
              "</table>\n",
              "</div>"
            ],
            "text/plain": [
              "               movie_title  rating\n",
              "0              Heavy Metal       4\n",
              "1               The Croods       5\n",
              "2                 Watchmen       4\n",
              "3               The Matrix       4\n",
              "4  The Emperors New Groove       5"
            ]
          },
          "metadata": {
            "tags": []
          },
          "execution_count": 18
        }
      ]
    },
    {
      "cell_type": "markdown",
      "metadata": {
        "colab_type": "text",
        "id": "_AmyMzx5dXtS"
      },
      "source": [
        "**Κατασκευάζουμε τα scores για κάθε ταινία με βάση τις προηγούμενες αξιολογήσεις του χρήστη**"
      ]
    },
    {
      "cell_type": "code",
      "metadata": {
        "colab_type": "code",
        "id": "6V4QJFUTbRZC",
        "colab": {}
      },
      "source": [
        "similarity_weights = {\"similarity_5\": 15, \"similarity_4\":7 , \"similarity_3\":4, \"similarity_2\":2, \"similarity_1\":1}\n",
        "rating_weight = {5: 10, 4: 5, 3: 0, 2: -5, 1: -10}\n",
        "\n",
        "movie_score = {m: 0 for m in  movie_score}\n",
        "for row in ratings.itertuples(index=True, name='Pandas'):\n",
        "    movie = clean_text(getattr(row, 'movie_title'))\n",
        "    rating = getattr(row, 'rating')    \n",
        "    \n",
        "    q = prolog.query(\"find_similar_movies_5('\" + movie + \"',M)\")\n",
        "    for soln in q:\n",
        "        movie_score [soln[\"M\"]] += similarity_weights['similarity_5'] * rating_weight[rating] #το weight θα το ορίσετε ανα επίπεδο ομοιότητας οι πολύ όμοιες ταινίες θα έχουν μεγαλύτερο βάρος\n",
        "    q.close()\n",
        "    \n",
        "    q = prolog.query(\"find_similar_movies_4('\" + movie + \"',M)\")\n",
        "    for soln in q:\n",
        "        movie_score [soln[\"M\"]] += similarity_weights['similarity_4'] * rating_weight[rating] #το weight θα το ορίσετε ανα επίπεδο ομοιότητας οι πολύ όμοιες ταινίες θα έχουν μεγαλύτερο βάρος\n",
        "    q.close()\n",
        "\n",
        "    q = prolog.query(\"find_similar_movies_3('\" + movie + \"',M)\")\n",
        "    for soln in q:\n",
        "        movie_score [soln[\"M\"]] += similarity_weights['similarity_3'] * rating_weight[rating] #το weight θα το ορίσετε ανα επίπεδο ομοιότητας οι πολύ όμοιες ταινίες θα έχουν μεγαλύτερο βάρος\n",
        "    q.close()\n",
        "\n",
        "    q = prolog.query(\"find_similar_movies_2('\" + movie + \"',M)\")\n",
        "    for soln in q:\n",
        "        movie_score [soln[\"M\"]] += similarity_weights['similarity_2'] * rating_weight[rating] #το weight θα το ορίσετε ανα επίπεδο ομοιότητας οι πολύ όμοιες ταινίες θα έχουν μεγαλύτερο βάρος\n",
        "    q.close()\n",
        "\n",
        "    q = prolog.query(\"find_similar_movies_1('\" + movie + \"',M)\")\n",
        "    for soln in q:\n",
        "        movie_score [soln[\"M\"]] += similarity_weights['similarity_1'] * rating_weight[rating] #το weight θα το ορίσετε ανα επίπεδο ομοιότητας οι πολύ όμοιες ταινίες θα έχουν μεγαλύτερο βάρος\n",
        "    q.close()"
      ],
      "execution_count": 0,
      "outputs": []
    },
    {
      "cell_type": "markdown",
      "metadata": {
        "colab_type": "text",
        "id": "luU3can3dm-N"
      },
      "source": [
        "**Στο σημείο αυτό κατασκευάζουμε την νέα συνάρτηση η όποια θα επιστρέφει τις προτεινόμενες ταινίες συνυπολογίζοντας τις αξιολογήσεις του χρήστη.**"
      ]
    },
    {
      "cell_type": "code",
      "metadata": {
        "colab_type": "code",
        "id": "kvL14dw3c9cF",
        "colab": {}
      },
      "source": [
        "def recommender(movie_score):\n",
        "    movies_score = {k: v for k, v in sorted(movie_score.items(), key=lambda item: item[1], reverse = True)}\n",
        "    return [m for m in movies_score][:10]"
      ],
      "execution_count": 0,
      "outputs": []
    },
    {
      "cell_type": "code",
      "metadata": {
        "colab_type": "code",
        "id": "VkHP2NVEvpqR",
        "outputId": "18c9e13a-cd08-4bd7-9f7a-bf69c863d2ef",
        "colab": {
          "base_uri": "https://localhost:8080/",
          "height": 187
        }
      },
      "source": [
        "recommender(movie_score)"
      ],
      "execution_count": 0,
      "outputs": [
        {
          "output_type": "execute_result",
          "data": {
            "text/plain": [
              "['Home',\n",
              " 'Pan',\n",
              " '20,000 Leagues Under the Sea',\n",
              " 'Goosebumps',\n",
              " 'Casino Royale',\n",
              " 'King Kong',\n",
              " 'The Jungle Book',\n",
              " 'Alice in Wonderland',\n",
              " 'Oz the Great and Powerful',\n",
              " 'Teenage Mutant Ninja Turtles']"
            ]
          },
          "metadata": {
            "tags": []
          },
          "execution_count": 21
        }
      ]
    },
    {
      "cell_type": "code",
      "metadata": {
        "id": "HMFkHc3-9q1N",
        "colab_type": "code",
        "outputId": "6daeb2fb-dd05-4171-face-b64dd909121b",
        "colab": {
          "base_uri": "https://localhost:8080/",
          "height": 204
        }
      },
      "source": [
        "user = \"user2.csv\"\n",
        "ratings = pd.read_csv(user) \n",
        "\n",
        "# Preview the first 5 lines of the loaded data \n",
        "ratings.head()"
      ],
      "execution_count": 0,
      "outputs": [
        {
          "output_type": "execute_result",
          "data": {
            "text/html": [
              "<div>\n",
              "<style scoped>\n",
              "    .dataframe tbody tr th:only-of-type {\n",
              "        vertical-align: middle;\n",
              "    }\n",
              "\n",
              "    .dataframe tbody tr th {\n",
              "        vertical-align: top;\n",
              "    }\n",
              "\n",
              "    .dataframe thead th {\n",
              "        text-align: right;\n",
              "    }\n",
              "</style>\n",
              "<table border=\"1\" class=\"dataframe\">\n",
              "  <thead>\n",
              "    <tr style=\"text-align: right;\">\n",
              "      <th></th>\n",
              "      <th>movie_title</th>\n",
              "      <th>rating</th>\n",
              "    </tr>\n",
              "  </thead>\n",
              "  <tbody>\n",
              "    <tr>\n",
              "      <th>0</th>\n",
              "      <td>Loser</td>\n",
              "      <td>1</td>\n",
              "    </tr>\n",
              "    <tr>\n",
              "      <th>1</th>\n",
              "      <td>All That Jazz</td>\n",
              "      <td>2</td>\n",
              "    </tr>\n",
              "    <tr>\n",
              "      <th>2</th>\n",
              "      <td>The Sting</td>\n",
              "      <td>2</td>\n",
              "    </tr>\n",
              "    <tr>\n",
              "      <th>3</th>\n",
              "      <td>Torque</td>\n",
              "      <td>3</td>\n",
              "    </tr>\n",
              "    <tr>\n",
              "      <th>4</th>\n",
              "      <td>Project X</td>\n",
              "      <td>1</td>\n",
              "    </tr>\n",
              "  </tbody>\n",
              "</table>\n",
              "</div>"
            ],
            "text/plain": [
              "     movie_title  rating\n",
              "0          Loser       1\n",
              "1  All That Jazz       2\n",
              "2      The Sting       2\n",
              "3         Torque       3\n",
              "4      Project X       1"
            ]
          },
          "metadata": {
            "tags": []
          },
          "execution_count": 22
        }
      ]
    },
    {
      "cell_type": "code",
      "metadata": {
        "id": "j5DS2ZhB9wZq",
        "colab_type": "code",
        "colab": {}
      },
      "source": [
        "similarity_weights = {\"similarity_5\": 15, \"similarity_4\":7 , \"similarity_3\":4, \"similarity_2\":2, \"similarity_1\":1}\n",
        "rating_weight = {5: 10, 4: 5, 3: 0, 2: -5, 1: -10}\n",
        "\n",
        "movie_score = {m: 0 for m in  movie_score}\n",
        "for row in ratings.itertuples(index=True, name='Pandas'):\n",
        "    movie = clean_text(getattr(row, 'movie_title'))\n",
        "    rating = getattr(row, 'rating')    \n",
        "    \n",
        "    q = prolog.query(\"find_similar_movies_5('\" + movie + \"',M)\")\n",
        "    for soln in q:\n",
        "        movie_score [soln[\"M\"]] += similarity_weights['similarity_5'] * rating_weight[rating] #το weight θα το ορίσετε ανα επίπεδο ομοιότητας οι πολύ όμοιες ταινίες θα έχουν μεγαλύτερο βάρος\n",
        "    q.close()\n",
        "    \n",
        "    q = prolog.query(\"find_similar_movies_4('\" + movie + \"',M)\")\n",
        "    for soln in q:\n",
        "        movie_score [soln[\"M\"]] += similarity_weights['similarity_4'] * rating_weight[rating] #το weight θα το ορίσετε ανα επίπεδο ομοιότητας οι πολύ όμοιες ταινίες θα έχουν μεγαλύτερο βάρος\n",
        "    q.close()\n",
        "\n",
        "    q = prolog.query(\"find_similar_movies_3('\" + movie + \"',M)\")\n",
        "    for soln in q:\n",
        "        movie_score [soln[\"M\"]] += similarity_weights['similarity_3'] * rating_weight[rating] #το weight θα το ορίσετε ανα επίπεδο ομοιότητας οι πολύ όμοιες ταινίες θα έχουν μεγαλύτερο βάρος\n",
        "    q.close()\n",
        "\n",
        "    q = prolog.query(\"find_similar_movies_2('\" + movie + \"',M)\")\n",
        "    for soln in q:\n",
        "        movie_score [soln[\"M\"]] += similarity_weights['similarity_2'] * rating_weight[rating] #το weight θα το ορίσετε ανα επίπεδο ομοιότητας οι πολύ όμοιες ταινίες θα έχουν μεγαλύτερο βάρος\n",
        "    q.close()\n",
        "\n",
        "    q = prolog.query(\"find_similar_movies_1('\" + movie + \"',M)\")\n",
        "    for soln in q:\n",
        "        movie_score [soln[\"M\"]] += similarity_weights['similarity_1'] * rating_weight[rating] #το weight θα το ορίσετε ανα επίπεδο ομοιότητας οι πολύ όμοιες ταινίες θα έχουν μεγαλύτερο βάρος\n",
        "    q.close()"
      ],
      "execution_count": 0,
      "outputs": []
    },
    {
      "cell_type": "code",
      "metadata": {
        "id": "K_xGPmuN91wI",
        "colab_type": "code",
        "outputId": "40f7cd64-14d1-4246-eb0a-9740faf73f75",
        "colab": {
          "base_uri": "https://localhost:8080/",
          "height": 187
        }
      },
      "source": [
        "recommender(movie_score)"
      ],
      "execution_count": 0,
      "outputs": [
        {
          "output_type": "execute_result",
          "data": {
            "text/plain": [
              "['Jack Reacher',\n",
              " 'The Fast and the Furious',\n",
              " 'Snakes on a Plane',\n",
              " 'Mercury Rising',\n",
              " 'Sabotage',\n",
              " 'The French Connection',\n",
              " 'Lucky Number Slevin',\n",
              " 'Trance',\n",
              " 'Victor Frankenstein',\n",
              " 'Disturbia']"
            ]
          },
          "metadata": {
            "tags": []
          },
          "execution_count": 24
        }
      ]
    },
    {
      "cell_type": "markdown",
      "metadata": {
        "id": "7K7Uys_HO4HE",
        "colab_type": "text"
      },
      "source": [
        "Σχολιάστε τα αποτελέσματά σας."
      ]
    },
    {
      "cell_type": "markdown",
      "metadata": {
        "id": "x_J91XjFO4HV",
        "colab_type": "text"
      },
      "source": [
        "---\n",
        "<center><h2>Κατασκευή των Δικών σας Users</h2></center>\n",
        "\n",
        "---"
      ]
    },
    {
      "cell_type": "code",
      "metadata": {
        "id": "Rm9YV69SO4Hd",
        "colab_type": "code",
        "colab": {}
      },
      "source": [
        "import csv\n",
        "import numpy as np\n",
        "\n",
        "def create_my_user(liked, notLiked, filename, num_of_liked =20, num_of_notliked = 20):\n",
        "    with open(filename, 'w', newline='') as file:\n",
        "        writer = csv.writer(file)\n",
        "        writer.writerow([\"movie_title\",\"rating\"])\n",
        "        liked = np.random.choice(liked, num_of_liked)\n",
        "        liked = np.random.choice(notliked, num_of_notliked)\n",
        "        for i in  liked:\n",
        "            grade = np.random.choice([5,4,3], p = [0.5, 0.4, 0.1])\n",
        "            writer.writerow([i, grade])\n",
        "        for i in  liked:\n",
        "            grade = np.random.choice([1, 2, 3], p = [0.5, 0.4, 0.1])\n",
        "            writer.writerow([i, grade])"
      ],
      "execution_count": 0,
      "outputs": []
    },
    {
      "cell_type": "code",
      "metadata": {
        "id": "yT60UhVxO4H1",
        "colab_type": "code",
        "colab": {}
      },
      "source": [
        "# prolog.consult(\"db.pl\")\n",
        "#Κατασκευάστε τα κατηγορήματα για τις ταινίες που σας αρέσουν και για αυτές που δεν σας αρέσουν\n",
        "#Αν μια ταινία ανήκει σε μια ευρίτερη κατηγορία κατεσκευάστε την πρώτα\n",
        "prolog.assertz(\"(fantasy(X) :- genre(X, 'Sci-Fi'); genre(X, 'Fantacy'))\")\n",
        "prolog.assertz(\"(thriller(X) :- genre(X, 'Horror'); genre(X, 'Thriller'))\")\n",
        "prolog.assertz(\"(comedy(X) :- genre(X,'Comedy'))\")\n",
        "prolog.assertz(\"(mystery(X) :- genre(X,'Crime');genre(X,'Mystery'))\")\n",
        "prolog.assertz(\"(liked(X) :-  comedy(X), actor1(X, 'Johnny Depp'))\")\n",
        "prolog.assertz(\"(liked(X) :-  comedy(X), actor2(X, 'Johnny Depp'))\")\n",
        "prolog.assertz(\"(liked(X) :-  comedy(X), actor2(X, 'Johnny Depp'))\")\n",
        "prolog.assertz(\"(notLiked(X) :- thriller(X))\")"
      ],
      "execution_count": 0,
      "outputs": []
    },
    {
      "cell_type": "code",
      "metadata": {
        "id": "CMviGvgdO4IZ",
        "colab_type": "code",
        "colab": {}
      },
      "source": [
        "q = prolog.query(\"liked(M)\")\n",
        "ans = []\n",
        "for soln in q:\n",
        "    ans.append(soln[\"M\"])\n",
        "liked = list(set(ans))\n",
        "\n",
        "q = prolog.query(\"notLiked(M)\")\n",
        "ans = []\n",
        "for soln in q:\n",
        "    ans.append(soln[\"M\"])\n",
        "notliked = list(set(ans))\n",
        "\n",
        "create_my_user(liked, notliked, filename= \"myuser.csv\", num_of_liked = 20, num_of_notliked = 20)"
      ],
      "execution_count": 0,
      "outputs": []
    },
    {
      "cell_type": "code",
      "metadata": {
        "id": "2Ab9eE9NItBC",
        "colab_type": "code",
        "outputId": "0200d8f7-1401-43e0-9fc7-610ad818047b",
        "colab": {
          "base_uri": "https://localhost:8080/",
          "height": 204
        }
      },
      "source": [
        "user = \"myuser.csv\"\n",
        "ratings = pd.read_csv(user) \n",
        "\n",
        "# Preview the first 5 lines of the loaded data \n",
        "ratings.head()"
      ],
      "execution_count": 0,
      "outputs": [
        {
          "output_type": "execute_result",
          "data": {
            "text/html": [
              "<div>\n",
              "<style scoped>\n",
              "    .dataframe tbody tr th:only-of-type {\n",
              "        vertical-align: middle;\n",
              "    }\n",
              "\n",
              "    .dataframe tbody tr th {\n",
              "        vertical-align: top;\n",
              "    }\n",
              "\n",
              "    .dataframe thead th {\n",
              "        text-align: right;\n",
              "    }\n",
              "</style>\n",
              "<table border=\"1\" class=\"dataframe\">\n",
              "  <thead>\n",
              "    <tr style=\"text-align: right;\">\n",
              "      <th></th>\n",
              "      <th>movie_title</th>\n",
              "      <th>rating</th>\n",
              "    </tr>\n",
              "  </thead>\n",
              "  <tbody>\n",
              "    <tr>\n",
              "      <th>0</th>\n",
              "      <td>Inside Man</td>\n",
              "      <td>5</td>\n",
              "    </tr>\n",
              "    <tr>\n",
              "      <th>1</th>\n",
              "      <td>The Dark Knight Rises</td>\n",
              "      <td>4</td>\n",
              "    </tr>\n",
              "    <tr>\n",
              "      <th>2</th>\n",
              "      <td>Oceans Twelve</td>\n",
              "      <td>5</td>\n",
              "    </tr>\n",
              "    <tr>\n",
              "      <th>3</th>\n",
              "      <td>Hitman</td>\n",
              "      <td>5</td>\n",
              "    </tr>\n",
              "    <tr>\n",
              "      <th>4</th>\n",
              "      <td>Armageddon</td>\n",
              "      <td>5</td>\n",
              "    </tr>\n",
              "  </tbody>\n",
              "</table>\n",
              "</div>"
            ],
            "text/plain": [
              "             movie_title  rating\n",
              "0             Inside Man       5\n",
              "1  The Dark Knight Rises       4\n",
              "2          Oceans Twelve       5\n",
              "3                 Hitman       5\n",
              "4             Armageddon       5"
            ]
          },
          "metadata": {
            "tags": []
          },
          "execution_count": 28
        }
      ]
    },
    {
      "cell_type": "code",
      "metadata": {
        "id": "mkMdnr5iI9Kj",
        "colab_type": "code",
        "colab": {}
      },
      "source": [
        "similarity_weights = {\"similarity_5\": 15, \"similarity_4\":7 , \"similarity_3\":4, \"similarity_2\":2, \"similarity_1\":1}\n",
        "rating_weight = {5: 10, 4: 5, 3: 0, 2: -5, 1: -10}\n",
        "\n",
        "movie_score = {m: 0 for m in  movie_score}\n",
        "for row in ratings.itertuples(index=True, name='Pandas'):\n",
        "    movie = clean_text(getattr(row, 'movie_title'))\n",
        "    rating = getattr(row, 'rating')    \n",
        "    \n",
        "    q = prolog.query(\"find_similar_movies_5('\" + movie + \"',M)\")\n",
        "    for soln in q:\n",
        "        movie_score [soln[\"M\"]] += similarity_weights['similarity_5'] * rating_weight[rating] #το weight θα το ορίσετε ανα επίπεδο ομοιότητας οι πολύ όμοιες ταινίες θα έχουν μεγαλύτερο βάρος\n",
        "    q.close()\n",
        "    \n",
        "    q = prolog.query(\"find_similar_movies_4('\" + movie + \"',M)\")\n",
        "    for soln in q:\n",
        "        movie_score [soln[\"M\"]] += similarity_weights['similarity_4'] * rating_weight[rating] #το weight θα το ορίσετε ανα επίπεδο ομοιότητας οι πολύ όμοιες ταινίες θα έχουν μεγαλύτερο βάρος\n",
        "    q.close()\n",
        "\n",
        "    q = prolog.query(\"find_similar_movies_3('\" + movie + \"',M)\")\n",
        "    for soln in q:\n",
        "        movie_score [soln[\"M\"]] += similarity_weights['similarity_3'] * rating_weight[rating] #το weight θα το ορίσετε ανα επίπεδο ομοιότητας οι πολύ όμοιες ταινίες θα έχουν μεγαλύτερο βάρος\n",
        "    q.close()\n",
        "\n",
        "    q = prolog.query(\"find_similar_movies_2('\" + movie + \"',M)\")\n",
        "    for soln in q:\n",
        "        movie_score [soln[\"M\"]] += similarity_weights['similarity_2'] * rating_weight[rating] #το weight θα το ορίσετε ανα επίπεδο ομοιότητας οι πολύ όμοιες ταινίες θα έχουν μεγαλύτερο βάρος\n",
        "    q.close()\n",
        "\n",
        "    q = prolog.query(\"find_similar_movies_1('\" + movie + \"',M)\")\n",
        "    for soln in q:\n",
        "        movie_score [soln[\"M\"]] += similarity_weights['similarity_1'] * rating_weight[rating] #το weight θα το ορίσετε ανα επίπεδο ομοιότητας οι πολύ όμοιες ταινίες θα έχουν μεγαλύτερο βάρος\n",
        "    q.close()"
      ],
      "execution_count": 0,
      "outputs": []
    },
    {
      "cell_type": "code",
      "metadata": {
        "id": "YHsVEQqbJARf",
        "colab_type": "code",
        "outputId": "f0540322-21b6-4119-b642-5785613f200f",
        "colab": {
          "base_uri": "https://localhost:8080/",
          "height": 187
        }
      },
      "source": [
        "recommender(movie_score)"
      ],
      "execution_count": 0,
      "outputs": [
        {
          "output_type": "execute_result",
          "data": {
            "text/plain": [
              "['The Island',\n",
              " 'Cradle 2 the Grave',\n",
              " 'Street Fighter: The Legend of Chun-Li',\n",
              " 'King Kong',\n",
              " 'Snitch',\n",
              " 'Meteor',\n",
              " 'Transformers: Revenge of the Fallen',\n",
              " 'Transformers: Age of Extinction',\n",
              " 'Transformers: Dark of the Moon',\n",
              " 'Transformers']"
            ]
          },
          "metadata": {
            "tags": []
          },
          "execution_count": 30
        }
      ]
    }
  ]
}